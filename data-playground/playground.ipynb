{
 "cells": [
  {
   "cell_type": "markdown",
   "metadata": {},
   "source": [
    "# Fundamentals of Deep Learning -  Playground"
   ]
  },
  {
   "cell_type": "markdown",
   "metadata": {},
   "source": [
    "🧠 Welcome to this module of Deep Learning!\n",
    "\n",
    "🎯 In this challenge, our goal is two-fold:\n",
    "1. Get a visual representation of Neural Networks\n",
    "2. Build a better intuition of what Neural Networks are doing\n",
    "\n",
    "👉 We will use ***[Tensorflow Playground](https://playground.tensorflow.org/)***\n",
    "\n",
    "_(This first challenge does not require much coding_)"
   ]
  },
  {
   "cell_type": "markdown",
   "metadata": {},
   "source": [
    "## Classification in Deep Learning"
   ]
  },
  {
   "cell_type": "markdown",
   "metadata": {},
   "source": [
    "### (1) The data"
   ]
  },
  {
   "cell_type": "markdown",
   "metadata": {},
   "source": [
    "❓ Let's go to the [Playground](https://playground.tensorflow.org/#activation=tanh&batchSize=10&dataset=spiral&regDataset=reg-plane&learningRate=0.03&regularizationRate=0&noise=0&networkShape=2&seed=0.23545&showTestData=false&discretize=false&percTrainData=70&x=true&y=true&xTimesY=false&xSquared=false&ySquared=false&cosX=false&sinX=false&cosY=false&sinY=false&collectStats=false&problem=classification&initZero=false&hideText=false&regularization_hide=true&showTestData_hide=false&stepButton_hide=false&activation_hide=false&problem_hide=false&batchSize_hide=true&dataset_hide=false&resetButton_hide=false&discretize_hide=false&playButton_hide=false&learningRate_hide=true&regularizationRate_hide=true&percTrainData_hide=false&numHiddenLayers_hide=false) and select the following type of data ❓ \n",
    "\n",
    "- A classification problem \n",
    "- The circle dataset (<span style=\"color:blue\">blue dots</span> inside a circle of <span style=\"color:orange\">orange dots</span>)\n",
    "- Ratio of training to test data : $ 70 \\% $\n",
    "- No noise ($ = 0$)\n",
    "- Do not show test data (right panel) \n",
    "- Do not discretize the output\n",
    "- Activation function: ***ReLU*** \n",
    "\n",
    "<details>\n",
    "    <summary><i> Why Relu? </i></summary>\n",
    "        \n",
    "💡 In general, try it by default. It appears to work better for many problems!\n",
    "    \n",
    "_Note: Playground only allows you to select **one** activation function that is used for **all** of the **hidden** layers_\n",
    "\n",
    "</details>"
   ]
  },
  {
   "cell_type": "markdown",
   "metadata": {},
   "source": [
    "### (2) The features"
   ]
  },
  {
   "cell_type": "markdown",
   "metadata": {},
   "source": [
    "❓ <u>Questions about the features</u> ❓\n",
    "\n",
    "1. Select only the features $X_1$ and $X_2$ (_unselect the other features if necessary_)\n",
    "2. If you were using the other variables such as $X_1^{2}$, $X_2^{2}$, $X_1 X_2$, $sin(X_1)$ and $sin(X_2)$, what type of classic Machine Learning operation does it correspond to?"
   ]
  },
  {
   "cell_type": "markdown",
   "metadata": {
    "tags": [
     "challengify"
    ]
   },
   "source": [
    "> YOUR ANSWER HERE"
   ]
  },
  {
   "cell_type": "markdown",
   "metadata": {},
   "source": [
    "<details>\n",
    "    <summary><i>Answer</i></summary>\n",
    "\n",
    "* It corresponds to some type of ***feature engineering*** where you transform them. \n",
    "    * <i>Examples: multiplication, sinus, square, ...</i>\n",
    "* Here, in this exercise but also tomorrow, we will only use the raw input features $X_1$ and $X_2$. \n",
    "</details>\n",
    "\n"
   ]
  },
  {
   "cell_type": "markdown",
   "metadata": {},
   "source": [
    "### (3) Building and Fitting a Neural Network in ***Playground***"
   ]
  },
  {
   "cell_type": "markdown",
   "metadata": {},
   "source": [
    "❓ <u>Questions about Neural Networks</u> ❓ \n",
    "\n",
    "* 🧠 Build a model with the following architecture:\n",
    "    - three hidden layers\n",
    "    - 5 neurons on the first hidden layer\n",
    "    - 4 neurons on the second hidden layer\n",
    "    - 3 neurons on the last hidden layer\n",
    "    - In ***Playground***, the output layer is not represented: \n",
    "        - For such binary classification task, keep in mind that it will automatically be a dense layer with 1 neuron activated by the sigmoid function $ \\large \\phi(z) = \\frac{1}{1 + e^{-z}} $\n",
    "\n",
    "* 💪 ***Fit it and stop the iterations when the loss function has stabilized.***\n",
    "\n",
    "* 👀 Observe carefully:\n",
    "    - Look at the individual neurons and try to understand what each neuron has specialized for during the _.fit()_\n",
    "    - What do you think about the overall shape your results? Re-run the neural network with different activation functions to compare. Can you make it work with \"Linear\"?"
   ]
  },
  {
   "cell_type": "markdown",
   "metadata": {
    "tags": [
     "challengify"
    ]
   },
   "source": [
    "> YOUR ANSWER HERE"
   ]
  },
  {
   "cell_type": "markdown",
   "metadata": {},
   "source": [
    "<details>\n",
    "    <summary><i>Answer: some insights about the activation functions</i></summary>\n",
    "\n",
    "- Results may look like an hexagon because ReLu is piece-wise linear!\n",
    "- A non-linearly separable problem cannot be fitted with a linear activation such as ***Linear***     \n",
    "- Surprisingly, a piece-wise linear activation function such as ***ReLu*** (or ***LeakyReLu***) fits this non-linearly separable problem well (even if that is not always true)\n",
    "- The ***tanh*** activation gives a \"smoother\" decision boundary.\n",
    "- The ***sigmoid*** does seem to work well here. \n",
    "    \n",
    "🧑🏻‍🏫 Always start with ReLu, it's a safe bet 🧑🏻‍🏫!\n",
    "</details>\n",
    "\n"
   ]
  },
  {
   "cell_type": "markdown",
   "metadata": {},
   "source": [
    "### (4) Building and Fitting a Neural Network in ***Tensorflow.Keras***"
   ]
  },
  {
   "cell_type": "markdown",
   "metadata": {},
   "source": [
    "👇 We wrote the same model for you - at least the architecture - in Tensorflow's Keras"
   ]
  },
  {
   "cell_type": "code",
   "execution_count": 2,
   "metadata": {},
   "outputs": [],
   "source": [
    "from tensorflow.keras import models\n",
    "from tensorflow.keras import layers\n",
    "\n",
    "model = models.Sequential()\n",
    "\n",
    "model.add(layers.Dense(5, activation='relu', input_dim=2)) # 1st hidden layer with 5 neurons\n",
    "model.add(layers.Dense(4, activation='relu')) # 2nd hidden layer with 4 neurons\n",
    "model.add(layers.Dense(3, activation='relu')) # 3rd hidden layer with 3 neurons\n",
    "\n",
    "\n",
    "model.add(layers.Dense(1, activation='sigmoid')) # Output layer that outputs a probability of belonging\n",
    "                                                 # to the class of \"success\""
   ]
  },
  {
   "cell_type": "markdown",
   "metadata": {},
   "source": [
    "<details>\n",
    "    <summary><i>What to understand about the code of a Neural Network? </i>👆</summary>\n",
    "\n",
    "- <u>First Hidden Layer a.k.a ***Input Layer***</u>:\n",
    "    - Every datapoint that will be input to the neural network has two features $ X = \\begin{bmatrix} \n",
    "           X_{1} \\\\\n",
    "           X_{2} \\\\\n",
    "         \\end{bmatrix} $.\n",
    "    - You need to inform your Neural Network about the ***number of input features*** through the ***`input_dim` argument***\n",
    "    - A Neural Network tries to mimic the human brain. Here we would like to use 5 neurons to start analyzing each of these points.\n",
    "    \n",
    "    - Every datapoint goes through the first hidden layer which was built using 5 neurons $ layer_1 = \\begin{bmatrix} \n",
    "           a_{1} \\\\\n",
    "           a_{2} \\\\\n",
    "           a_{3} \\\\\n",
    "           a_{4} \\\\\n",
    "           a_{5} \\\\           \n",
    "         \\end{bmatrix} $\n",
    "    \n",
    " - <u>Second Hidden Layer</u>:\n",
    "         \n",
    "    - What if we want to ***make the information flow*** through a second hidden layer with 4 neurons? It is totally possible!\n",
    "    - These 4 neurons $ layer_2 = \\begin{bmatrix} \n",
    "           b_{1} \\\\\n",
    "           b_{2} \\\\\n",
    "           b_{3} \\\\\n",
    "           b_{4} \\\\ \n",
    "         \\end{bmatrix} $ from the second layer will analyze the output from the 5 neurons in the first layer\n",
    "    \n",
    "- <u>Third Hidden Layer</u>:\n",
    "        - What if we want the information to **continue to flow** through a third hidden layer with 3 neurons? Again, totally possible!\n",
    "\n",
    "    - Every neuron's output from the second layer goes through the third hidden layer which was built using 3 neurons $ layer_3 = \\begin{bmatrix} \n",
    "           c_{1} \\\\\n",
    "           c_{2} \\\\\n",
    "           c_{3} \n",
    "         \\end{bmatrix} $\n",
    "         \n",
    "    - These 3 neurons analyze the outputs of the neurons in $ layer_2  $ !\n",
    "\n",
    "- <u>Predictive Layer</u>\n",
    "    - You are dealing with a binary classification task\n",
    "    - We could use two neurons to predict the probability of belonging to class A or class B...\n",
    "    - But one neuron predicting the probability of \"success\" is enough\n",
    "\n",
    "- <u>About activation functions</u>\n",
    "    - Despite its simplicity, the ***ReLU*** has proven to be very effective to add some non-linearity to the layers\n",
    "    - For the predictive layer, the best activation function to use for a classification task is the ***sigmoid*** function. That is something we've already discussed during Decision Science and Machine Learning.\n",
    "\n",
    "- <u>About the Sequential aspect of the Network</u>:\n",
    "    - The fact that you are defining a **Sequential** model has a consequence: each layer is aware of its input size based on the output size of the previous layer!\n",
    "    \n",
    "</details>"
   ]
  },
  {
   "cell_type": "markdown",
   "metadata": {},
   "source": [
    "❓ How many parameters are involved in this small Neural Network ❓"
   ]
  },
  {
   "cell_type": "code",
   "execution_count": 3,
   "metadata": {},
   "outputs": [],
   "source": [
    "# Benefit of ReLu\n",
    "# reduced likelihood of the gradient to vanish\n",
    "# With ReLu the gradient has a constant value\n",
    "# In contrast, the gradient of sigmoids becomes increasingly small as the absolute value of x increases\n",
    "# The constant gradient of ReLUs results in faster learning"
   ]
  },
  {
   "cell_type": "code",
   "execution_count": 4,
   "metadata": {
    "tags": [
     "challengify"
    ]
   },
   "outputs": [
    {
     "name": "stdout",
     "output_type": "stream",
     "text": [
      "Model: \"sequential_1\"\n",
      "_________________________________________________________________\n",
      " Layer (type)                Output Shape              Param #   \n",
      "=================================================================\n",
      " dense_4 (Dense)             (None, 5)                 15        \n",
      "                                                                 \n",
      " dense_5 (Dense)             (None, 4)                 24        \n",
      "                                                                 \n",
      " dense_6 (Dense)             (None, 3)                 15        \n",
      "                                                                 \n",
      " dense_7 (Dense)             (None, 1)                 4         \n",
      "                                                                 \n",
      "=================================================================\n",
      "Total params: 58\n",
      "Trainable params: 58\n",
      "Non-trainable params: 0\n",
      "_________________________________________________________________\n"
     ]
    }
   ],
   "source": [
    "model.summary()"
   ]
  },
  {
   "cell_type": "code",
   "execution_count": 5,
   "metadata": {},
   "outputs": [
    {
     "data": {
      "text/plain": [
       "15"
      ]
     },
     "execution_count": 5,
     "metadata": {},
     "output_type": "execute_result"
    }
   ],
   "source": [
    "5*2+5"
   ]
  },
  {
   "cell_type": "code",
   "execution_count": 7,
   "metadata": {},
   "outputs": [
    {
     "data": {
      "text/plain": [
       "24"
      ]
     },
     "execution_count": 7,
     "metadata": {},
     "output_type": "execute_result"
    }
   ],
   "source": [
    "4*5+4"
   ]
  },
  {
   "cell_type": "code",
   "execution_count": 8,
   "metadata": {},
   "outputs": [
    {
     "data": {
      "text/plain": [
       "15"
      ]
     },
     "execution_count": 8,
     "metadata": {},
     "output_type": "execute_result"
    }
   ],
   "source": [
    "3*4+3"
   ]
  },
  {
   "cell_type": "markdown",
   "metadata": {},
   "source": [
    "<details>\n",
    "    <summary><i>Hint</i></summary>\n",
    "\n",
    "✅ You should have 58 parameters\n",
    "    \n",
    "❌ If not, double-check your architecture    \n",
    "</details>"
   ]
  },
  {
   "cell_type": "markdown",
   "metadata": {},
   "source": [
    "### (5) The XOR Dataset"
   ]
  },
  {
   "cell_type": "markdown",
   "metadata": {},
   "source": [
    "❓ <u>Playing with the XOR Dataset</u> ❓ \n",
    "\n",
    "* On Playground:\n",
    "    - Change the dataset to the \"XOR - Exclusive Or\".\n",
    "    - Try to design a model with two hidden layers that has a very small **test loss** \n",
    "        - Note: you are free to choose the number of neurons per layer yourself.  \n",
    "        \n",
    "* Coding with Tensorflow/Keras:\n",
    "    - Once you have built your model on Playground, code it down below with the Tensorflow/Keras library"
   ]
  },
  {
   "cell_type": "code",
   "execution_count": 9,
   "metadata": {},
   "outputs": [],
   "source": [
    "# Neural Network that can be well fitted to the XOR Dataset\n",
    "\n",
    "model = models.Sequential()\n",
    "\n",
    "model.add(layers.Dense(5, activation=\"relu\", input_dim=2)) # First hidden layer with 5 neurons\n",
    "model.add(layers.Dense(3, activation=\"relu\"))              # Second hidden layer with 3 neurons\n",
    "\n",
    "model.add(layers.Dense(1, activation='sigmoid'))"
   ]
  },
  {
   "cell_type": "code",
   "execution_count": 10,
   "metadata": {},
   "outputs": [
    {
     "name": "stdout",
     "output_type": "stream",
     "text": [
      "Model: \"sequential_2\"\n",
      "_________________________________________________________________\n",
      " Layer (type)                Output Shape              Param #   \n",
      "=================================================================\n",
      " dense_8 (Dense)             (None, 5)                 15        \n",
      "                                                                 \n",
      " dense_9 (Dense)             (None, 3)                 18        \n",
      "                                                                 \n",
      " dense_10 (Dense)            (None, 1)                 4         \n",
      "                                                                 \n",
      "=================================================================\n",
      "Total params: 37\n",
      "Trainable params: 37\n",
      "Non-trainable params: 0\n",
      "_________________________________________________________________\n"
     ]
    }
   ],
   "source": [
    "model.summary()"
   ]
  },
  {
   "cell_type": "markdown",
   "metadata": {},
   "source": [
    "### (6) The Spiral Dataset"
   ]
  },
  {
   "cell_type": "markdown",
   "metadata": {},
   "source": [
    "❓ <u>Playing with the Spiral Dataset</u> ❓ \n",
    "\n",
    "* On Playground:\n",
    "    - Change the dataset to the \"Spiral\".\n",
    "    - Try to design a model with two hidden layers that has a very small **test loss** \n",
    "        - Note: you are free to choose the number of neurons per layer yourself.  \n",
    "        \n",
    "* Coding with Tensorflow/Keras:\n",
    "    - Once you have built your model on Playground, code it down  below with the Tensorflow/Keras library"
   ]
  },
  {
   "cell_type": "code",
   "execution_count": 11,
   "metadata": {},
   "outputs": [],
   "source": [
    "# Neural Network that can be well fitted to the Spiral Dataset\n",
    "\n",
    "model = models.Sequential()\n",
    "\n",
    "model.add(layers.Dense(6, activation=\"relu\", input_dim=2))\n",
    "model.add(layers.Dense(5, activation=\"relu\")) \n",
    "model.add(layers.Dense(4, activation=\"relu\")) \n",
    "\n",
    "model.add(layers.Dense(1, activation='sigmoid'))"
   ]
  },
  {
   "cell_type": "code",
   "execution_count": 12,
   "metadata": {},
   "outputs": [
    {
     "name": "stdout",
     "output_type": "stream",
     "text": [
      "Model: \"sequential_3\"\n",
      "_________________________________________________________________\n",
      " Layer (type)                Output Shape              Param #   \n",
      "=================================================================\n",
      " dense_11 (Dense)            (None, 6)                 18        \n",
      "                                                                 \n",
      " dense_12 (Dense)            (None, 5)                 35        \n",
      "                                                                 \n",
      " dense_13 (Dense)            (None, 4)                 24        \n",
      "                                                                 \n",
      " dense_14 (Dense)            (None, 1)                 5         \n",
      "                                                                 \n",
      "=================================================================\n",
      "Total params: 82\n",
      "Trainable params: 82\n",
      "Non-trainable params: 0\n",
      "_________________________________________________________________\n"
     ]
    }
   ],
   "source": [
    "model.summary()"
   ]
  },
  {
   "cell_type": "markdown",
   "metadata": {},
   "source": [
    "### (7) How Deep should a Neural Network be ? "
   ]
  },
  {
   "cell_type": "markdown",
   "metadata": {},
   "source": [
    "👀 If you compare the number of parameters needed to fit the Spiral Dataset vs. the XOR dataset, the former requires many more weights....\n",
    "\n",
    "😃 Actually, if your models are deep enough, you could potentially fit pretty much any pattern...\n",
    "\n",
    "---\n",
    "\n",
    "<details>\n",
    "    <summary><i>Should I create Very Deep Neural Networks? </i></summary>\n",
    "        \n",
    "<u>Examples:</u>\n",
    "    \n",
    "* Think about a human being. The more this person spends time coding in Python, the better he/she will get better at it!\n",
    "    \n",
    "* Think about a student. The more this person studies, the better he/she will pass exams. But sometimes students can study \"too much\" about a topic and forget about the global picture of a course....\n",
    "    \n",
    "<u>Lessons</u>\n",
    "    \n",
    "🧠 For Deep Learning Models, the more layers they have, the more opportunities they will have to learn the patterns in the data...\n",
    "\n",
    "❗️ The problem is about avoiding **overfitting** ❗️\n",
    "    \n",
    "☠️ Add a good deal of noise and you _may_ see that your model will have learned \"too much\" about this noise. \n",
    "  \n",
    "    \n",
    "📆 The next lecture **Deep Learning > Optimizers, Loss, & Fitting** is dedicated to helping you understand which techniques we can use to prevent Deep Learning models from overfitting.\n",
    "\n",
    "</details>\n",
    "\n",
    "---\n",
    "\n",
    "<details>\n",
    "    <summary><i>A picture of overfitting in Playground</i></summary>\n",
    "    \n",
    "<img src='https://wagon-public-datasets.s3.amazonaws.com/data-science-images/DL/playground-overfitting.png' width=700 style='margin:auto'>\n",
    "</details>\n",
    "\n",
    "---"
   ]
  },
  {
   "cell_type": "markdown",
   "metadata": {},
   "source": [
    "## Regression in Deep Learning"
   ]
  },
  {
   "cell_type": "markdown",
   "metadata": {},
   "source": [
    "<u>Let's try to complete a Regression Task using Deep Learning</u>\n",
    "\n",
    "\n",
    "This time, the last layer will no longer look like:  \n",
    "```python\n",
    "model.add(layers.Dense(1, activation='sigmoid'))\n",
    "```\n",
    "\n",
    "but instead  :\n",
    "```python\n",
    "model.add(layers.Dense(1, activation='linear'))\n",
    "```\n",
    "\n",
    "This means that the output of this network is no longer between $0$ and $1$ (probability) but between $ -\\infty$ and $+ \\infty$."
   ]
  },
  {
   "cell_type": "markdown",
   "metadata": {},
   "source": [
    "❓ <u>Playing with the Regression Dataset</u> ❓ \n",
    "\n",
    "* On Playground:\n",
    "    - Change the dataset to the \"Regression\".\n",
    "    - Try to design a model that has a very small **test loss** \n",
    "        - Note: you are free to choose both the number of layers and the number of neurons per layer yourself \n",
    "        \n",
    "* Coding with Tensorflow/Keras:\n",
    "    - Once you have built your model on Playground, code it down  below with the Tensorflow/Keras library"
   ]
  },
  {
   "cell_type": "code",
   "execution_count": 13,
   "metadata": {},
   "outputs": [],
   "source": [
    "# Neural Network that can be well fitted to the Regression Dataset\n",
    "\n",
    "model = models.Sequential()\n",
    "\n",
    "model.add(layers.Dense(5, activation='relu', input_dim=2)) # First hidden layer with 5 neurons\n",
    "model.add(layers.Dense(4, activation='relu')) # Second hidden layer with 4 neurons\n",
    "model.add(layers.Dense(4, activation='relu')) # Second hidden layer with 4 neurons\n",
    "\n",
    "model.add(layers.Dense(1, activation='linear'))"
   ]
  },
  {
   "cell_type": "code",
   "execution_count": 14,
   "metadata": {},
   "outputs": [
    {
     "name": "stdout",
     "output_type": "stream",
     "text": [
      "Model: \"sequential_4\"\n",
      "_________________________________________________________________\n",
      " Layer (type)                Output Shape              Param #   \n",
      "=================================================================\n",
      " dense_15 (Dense)            (None, 5)                 15        \n",
      "                                                                 \n",
      " dense_16 (Dense)            (None, 4)                 24        \n",
      "                                                                 \n",
      " dense_17 (Dense)            (None, 4)                 20        \n",
      "                                                                 \n",
      " dense_18 (Dense)            (None, 1)                 5         \n",
      "                                                                 \n",
      "=================================================================\n",
      "Total params: 64\n",
      "Trainable params: 64\n",
      "Non-trainable params: 0\n",
      "_________________________________________________________________\n"
     ]
    }
   ],
   "source": [
    "model.summary()"
   ]
  },
  {
   "cell_type": "markdown",
   "metadata": {},
   "source": [
    "🏁 You are now ready to do the same things with Tensorflow's Keras directly!\n",
    "\n",
    "💪 This was a Warm-Up about Neural Networks / Deep Learning Models... (even if, admittedly, our networks in this challenge were not so \"deep\"). \n",
    "\n",
    "\n",
    "💾 Don't forget to `git add/commit/push` your notebook...\n",
    "\n",
    "🚀 ... and move on to the next challenge!"
   ]
  }
 ],
 "metadata": {
  "kernelspec": {
   "display_name": "Python 3 (ipykernel)",
   "language": "python",
   "name": "python3"
  },
  "language_info": {
   "codemirror_mode": {
    "name": "ipython",
    "version": 3
   },
   "file_extension": ".py",
   "mimetype": "text/x-python",
   "name": "python",
   "nbconvert_exporter": "python",
   "pygments_lexer": "ipython3",
   "version": "3.10.6"
  },
  "toc": {
   "base_numbering": 1,
   "nav_menu": {},
   "number_sections": true,
   "sideBar": true,
   "skip_h1_title": false,
   "title_cell": "Table of Contents",
   "title_sidebar": "Contents",
   "toc_cell": false,
   "toc_position": {},
   "toc_section_display": true,
   "toc_window_display": false
  }
 },
 "nbformat": 4,
 "nbformat_minor": 4
}
