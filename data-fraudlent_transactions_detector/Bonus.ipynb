{
 "cells": [
  {
   "cell_type": "markdown",
   "metadata": {},
   "source": [
    "# Bonus"
   ]
  },
  {
   "cell_type": "markdown",
   "metadata": {},
   "source": [
    "🎯 You are a Data Scientist for a bank. You are asked to develop a model that is able to detect at least 90% of fraudulent transactions. Go!"
   ]
  },
  {
   "cell_type": "markdown",
   "metadata": {},
   "source": [
    "👇 Load the player `creditcard.csv` dataset and display its first 5 rows."
   ]
  },
  {
   "cell_type": "code",
   "execution_count": 1,
   "metadata": {},
   "outputs": [
    {
     "data": {
      "text/html": [
       "<div>\n",
       "<style scoped>\n",
       "    .dataframe tbody tr th:only-of-type {\n",
       "        vertical-align: middle;\n",
       "    }\n",
       "\n",
       "    .dataframe tbody tr th {\n",
       "        vertical-align: top;\n",
       "    }\n",
       "\n",
       "    .dataframe thead th {\n",
       "        text-align: right;\n",
       "    }\n",
       "</style>\n",
       "<table border=\"1\" class=\"dataframe\">\n",
       "  <thead>\n",
       "    <tr style=\"text-align: right;\">\n",
       "      <th></th>\n",
       "      <th>V1</th>\n",
       "      <th>V2</th>\n",
       "      <th>V3</th>\n",
       "      <th>V4</th>\n",
       "      <th>V5</th>\n",
       "      <th>V6</th>\n",
       "      <th>V7</th>\n",
       "      <th>V8</th>\n",
       "      <th>V9</th>\n",
       "      <th>V10</th>\n",
       "      <th>...</th>\n",
       "      <th>V21</th>\n",
       "      <th>V22</th>\n",
       "      <th>V23</th>\n",
       "      <th>V24</th>\n",
       "      <th>V25</th>\n",
       "      <th>V26</th>\n",
       "      <th>V27</th>\n",
       "      <th>V28</th>\n",
       "      <th>Amount</th>\n",
       "      <th>Class</th>\n",
       "    </tr>\n",
       "  </thead>\n",
       "  <tbody>\n",
       "    <tr>\n",
       "      <th>0</th>\n",
       "      <td>-6.677212</td>\n",
       "      <td>5.529299</td>\n",
       "      <td>-7.193275</td>\n",
       "      <td>6.081321</td>\n",
       "      <td>-1.636071</td>\n",
       "      <td>0.500610</td>\n",
       "      <td>-4.640770</td>\n",
       "      <td>-4.339840</td>\n",
       "      <td>-0.950036</td>\n",
       "      <td>0.566680</td>\n",
       "      <td>...</td>\n",
       "      <td>5.563301</td>\n",
       "      <td>-1.608272</td>\n",
       "      <td>0.965322</td>\n",
       "      <td>0.163718</td>\n",
       "      <td>0.047531</td>\n",
       "      <td>0.466165</td>\n",
       "      <td>0.278547</td>\n",
       "      <td>1.471988</td>\n",
       "      <td>105.89</td>\n",
       "      <td>1</td>\n",
       "    </tr>\n",
       "    <tr>\n",
       "      <th>1</th>\n",
       "      <td>1.378559</td>\n",
       "      <td>1.289381</td>\n",
       "      <td>-5.004247</td>\n",
       "      <td>1.411850</td>\n",
       "      <td>0.442581</td>\n",
       "      <td>-1.326536</td>\n",
       "      <td>-1.413170</td>\n",
       "      <td>0.248525</td>\n",
       "      <td>-1.127396</td>\n",
       "      <td>-3.232153</td>\n",
       "      <td>...</td>\n",
       "      <td>0.370612</td>\n",
       "      <td>0.028234</td>\n",
       "      <td>-0.145640</td>\n",
       "      <td>-0.081049</td>\n",
       "      <td>0.521875</td>\n",
       "      <td>0.739467</td>\n",
       "      <td>0.389152</td>\n",
       "      <td>0.186637</td>\n",
       "      <td>0.76</td>\n",
       "      <td>1</td>\n",
       "    </tr>\n",
       "    <tr>\n",
       "      <th>2</th>\n",
       "      <td>-4.446847</td>\n",
       "      <td>-0.014793</td>\n",
       "      <td>-5.126307</td>\n",
       "      <td>6.945130</td>\n",
       "      <td>5.269255</td>\n",
       "      <td>-4.297177</td>\n",
       "      <td>-2.591242</td>\n",
       "      <td>0.342671</td>\n",
       "      <td>-3.880663</td>\n",
       "      <td>-3.976525</td>\n",
       "      <td>...</td>\n",
       "      <td>0.247913</td>\n",
       "      <td>-0.049586</td>\n",
       "      <td>-0.226017</td>\n",
       "      <td>-0.401236</td>\n",
       "      <td>0.856124</td>\n",
       "      <td>0.661272</td>\n",
       "      <td>0.492560</td>\n",
       "      <td>0.971834</td>\n",
       "      <td>1.00</td>\n",
       "      <td>1</td>\n",
       "    </tr>\n",
       "    <tr>\n",
       "      <th>3</th>\n",
       "      <td>-1.309441</td>\n",
       "      <td>1.786495</td>\n",
       "      <td>-1.371070</td>\n",
       "      <td>1.214335</td>\n",
       "      <td>-0.336642</td>\n",
       "      <td>-1.390120</td>\n",
       "      <td>-1.709109</td>\n",
       "      <td>0.667748</td>\n",
       "      <td>-1.699809</td>\n",
       "      <td>-3.843911</td>\n",
       "      <td>...</td>\n",
       "      <td>0.533521</td>\n",
       "      <td>-0.022180</td>\n",
       "      <td>-0.299556</td>\n",
       "      <td>-0.226416</td>\n",
       "      <td>0.364360</td>\n",
       "      <td>-0.475102</td>\n",
       "      <td>0.571426</td>\n",
       "      <td>0.293426</td>\n",
       "      <td>1.00</td>\n",
       "      <td>1</td>\n",
       "    </tr>\n",
       "    <tr>\n",
       "      <th>4</th>\n",
       "      <td>0.206075</td>\n",
       "      <td>1.387360</td>\n",
       "      <td>-1.045287</td>\n",
       "      <td>4.228686</td>\n",
       "      <td>-1.647549</td>\n",
       "      <td>-0.180897</td>\n",
       "      <td>-2.943678</td>\n",
       "      <td>0.859156</td>\n",
       "      <td>-1.181743</td>\n",
       "      <td>-3.096504</td>\n",
       "      <td>...</td>\n",
       "      <td>0.469199</td>\n",
       "      <td>0.344930</td>\n",
       "      <td>-0.203799</td>\n",
       "      <td>0.376640</td>\n",
       "      <td>0.715485</td>\n",
       "      <td>0.226003</td>\n",
       "      <td>0.628545</td>\n",
       "      <td>0.319918</td>\n",
       "      <td>0.76</td>\n",
       "      <td>1</td>\n",
       "    </tr>\n",
       "    <tr>\n",
       "      <th>5</th>\n",
       "      <td>-0.734303</td>\n",
       "      <td>0.435519</td>\n",
       "      <td>-0.530866</td>\n",
       "      <td>-0.471120</td>\n",
       "      <td>0.643214</td>\n",
       "      <td>0.713832</td>\n",
       "      <td>-1.234572</td>\n",
       "      <td>-2.551412</td>\n",
       "      <td>-2.057724</td>\n",
       "      <td>0.166831</td>\n",
       "      <td>...</td>\n",
       "      <td>-1.004877</td>\n",
       "      <td>1.150354</td>\n",
       "      <td>-0.152555</td>\n",
       "      <td>-1.386745</td>\n",
       "      <td>0.004716</td>\n",
       "      <td>0.219146</td>\n",
       "      <td>-0.058257</td>\n",
       "      <td>0.158048</td>\n",
       "      <td>29.95</td>\n",
       "      <td>1</td>\n",
       "    </tr>\n",
       "    <tr>\n",
       "      <th>6</th>\n",
       "      <td>-21.885434</td>\n",
       "      <td>12.930505</td>\n",
       "      <td>-24.098872</td>\n",
       "      <td>6.203314</td>\n",
       "      <td>-16.466099</td>\n",
       "      <td>-4.459842</td>\n",
       "      <td>-16.519836</td>\n",
       "      <td>14.535565</td>\n",
       "      <td>-3.897022</td>\n",
       "      <td>-8.650758</td>\n",
       "      <td>...</td>\n",
       "      <td>1.762232</td>\n",
       "      <td>-1.579055</td>\n",
       "      <td>-0.951043</td>\n",
       "      <td>0.134565</td>\n",
       "      <td>1.507110</td>\n",
       "      <td>-0.222671</td>\n",
       "      <td>1.527655</td>\n",
       "      <td>0.453699</td>\n",
       "      <td>99.99</td>\n",
       "      <td>1</td>\n",
       "    </tr>\n",
       "    <tr>\n",
       "      <th>7</th>\n",
       "      <td>-17.467710</td>\n",
       "      <td>10.114816</td>\n",
       "      <td>-24.202142</td>\n",
       "      <td>11.805469</td>\n",
       "      <td>-10.198046</td>\n",
       "      <td>-2.579938</td>\n",
       "      <td>-17.656788</td>\n",
       "      <td>2.256902</td>\n",
       "      <td>-6.242149</td>\n",
       "      <td>-12.830657</td>\n",
       "      <td>...</td>\n",
       "      <td>-2.328024</td>\n",
       "      <td>0.940830</td>\n",
       "      <td>1.296817</td>\n",
       "      <td>-1.055104</td>\n",
       "      <td>0.111792</td>\n",
       "      <td>0.679695</td>\n",
       "      <td>2.093541</td>\n",
       "      <td>-1.425491</td>\n",
       "      <td>1.00</td>\n",
       "      <td>1</td>\n",
       "    </tr>\n",
       "    <tr>\n",
       "      <th>8</th>\n",
       "      <td>-2.326922</td>\n",
       "      <td>-3.348439</td>\n",
       "      <td>-3.513408</td>\n",
       "      <td>3.175060</td>\n",
       "      <td>-2.815137</td>\n",
       "      <td>-0.203363</td>\n",
       "      <td>-0.892144</td>\n",
       "      <td>0.333226</td>\n",
       "      <td>-0.802005</td>\n",
       "      <td>-4.350685</td>\n",
       "      <td>...</td>\n",
       "      <td>1.226648</td>\n",
       "      <td>-0.695902</td>\n",
       "      <td>-1.478490</td>\n",
       "      <td>-0.061553</td>\n",
       "      <td>0.236155</td>\n",
       "      <td>0.531911</td>\n",
       "      <td>0.302324</td>\n",
       "      <td>0.536375</td>\n",
       "      <td>1389.56</td>\n",
       "      <td>1</td>\n",
       "    </tr>\n",
       "    <tr>\n",
       "      <th>9</th>\n",
       "      <td>-2.019001</td>\n",
       "      <td>1.491270</td>\n",
       "      <td>0.005222</td>\n",
       "      <td>0.817253</td>\n",
       "      <td>0.973252</td>\n",
       "      <td>-0.639268</td>\n",
       "      <td>-0.974073</td>\n",
       "      <td>-3.146929</td>\n",
       "      <td>-0.003159</td>\n",
       "      <td>-0.121653</td>\n",
       "      <td>...</td>\n",
       "      <td>2.839596</td>\n",
       "      <td>-1.185443</td>\n",
       "      <td>-0.142812</td>\n",
       "      <td>-0.086103</td>\n",
       "      <td>-0.329113</td>\n",
       "      <td>0.523601</td>\n",
       "      <td>0.626283</td>\n",
       "      <td>0.152440</td>\n",
       "      <td>0.76</td>\n",
       "      <td>1</td>\n",
       "    </tr>\n",
       "  </tbody>\n",
       "</table>\n",
       "<p>10 rows × 30 columns</p>\n",
       "</div>"
      ],
      "text/plain": [
       "          V1         V2         V3         V4         V5        V6         V7  \\\n",
       "0  -6.677212   5.529299  -7.193275   6.081321  -1.636071  0.500610  -4.640770   \n",
       "1   1.378559   1.289381  -5.004247   1.411850   0.442581 -1.326536  -1.413170   \n",
       "2  -4.446847  -0.014793  -5.126307   6.945130   5.269255 -4.297177  -2.591242   \n",
       "3  -1.309441   1.786495  -1.371070   1.214335  -0.336642 -1.390120  -1.709109   \n",
       "4   0.206075   1.387360  -1.045287   4.228686  -1.647549 -0.180897  -2.943678   \n",
       "5  -0.734303   0.435519  -0.530866  -0.471120   0.643214  0.713832  -1.234572   \n",
       "6 -21.885434  12.930505 -24.098872   6.203314 -16.466099 -4.459842 -16.519836   \n",
       "7 -17.467710  10.114816 -24.202142  11.805469 -10.198046 -2.579938 -17.656788   \n",
       "8  -2.326922  -3.348439  -3.513408   3.175060  -2.815137 -0.203363  -0.892144   \n",
       "9  -2.019001   1.491270   0.005222   0.817253   0.973252 -0.639268  -0.974073   \n",
       "\n",
       "          V8        V9        V10  ...       V21       V22       V23  \\\n",
       "0  -4.339840 -0.950036   0.566680  ...  5.563301 -1.608272  0.965322   \n",
       "1   0.248525 -1.127396  -3.232153  ...  0.370612  0.028234 -0.145640   \n",
       "2   0.342671 -3.880663  -3.976525  ...  0.247913 -0.049586 -0.226017   \n",
       "3   0.667748 -1.699809  -3.843911  ...  0.533521 -0.022180 -0.299556   \n",
       "4   0.859156 -1.181743  -3.096504  ...  0.469199  0.344930 -0.203799   \n",
       "5  -2.551412 -2.057724   0.166831  ... -1.004877  1.150354 -0.152555   \n",
       "6  14.535565 -3.897022  -8.650758  ...  1.762232 -1.579055 -0.951043   \n",
       "7   2.256902 -6.242149 -12.830657  ... -2.328024  0.940830  1.296817   \n",
       "8   0.333226 -0.802005  -4.350685  ...  1.226648 -0.695902 -1.478490   \n",
       "9  -3.146929 -0.003159  -0.121653  ...  2.839596 -1.185443 -0.142812   \n",
       "\n",
       "        V24       V25       V26       V27       V28   Amount  Class  \n",
       "0  0.163718  0.047531  0.466165  0.278547  1.471988   105.89      1  \n",
       "1 -0.081049  0.521875  0.739467  0.389152  0.186637     0.76      1  \n",
       "2 -0.401236  0.856124  0.661272  0.492560  0.971834     1.00      1  \n",
       "3 -0.226416  0.364360 -0.475102  0.571426  0.293426     1.00      1  \n",
       "4  0.376640  0.715485  0.226003  0.628545  0.319918     0.76      1  \n",
       "5 -1.386745  0.004716  0.219146 -0.058257  0.158048    29.95      1  \n",
       "6  0.134565  1.507110 -0.222671  1.527655  0.453699    99.99      1  \n",
       "7 -1.055104  0.111792  0.679695  2.093541 -1.425491     1.00      1  \n",
       "8 -0.061553  0.236155  0.531911  0.302324  0.536375  1389.56      1  \n",
       "9 -0.086103 -0.329113  0.523601  0.626283  0.152440     0.76      1  \n",
       "\n",
       "[10 rows x 30 columns]"
      ]
     },
     "execution_count": 1,
     "metadata": {},
     "output_type": "execute_result"
    }
   ],
   "source": [
    "import pandas as pd\n",
    "\n",
    "data = pd.read_csv(\"data/creditcard.csv\")\n",
    "\n",
    "data.head(10)"
   ]
  },
  {
   "cell_type": "markdown",
   "metadata": {},
   "source": [
    "ℹ️ Due to confidentiality issues, the original features have been preprocessed and renamed `V1` to `V28`. There is only one features which has not been transformed, `Amount` which is the transaction Amount. `Class` is the target and it takes value 1 in case of fraud and 0 otherwise."
   ]
  },
  {
   "cell_type": "markdown",
   "metadata": {},
   "source": [
    "# Base Logistic Regression"
   ]
  },
  {
   "cell_type": "markdown",
   "metadata": {},
   "source": [
    "👇 Check class balance."
   ]
  },
  {
   "cell_type": "code",
   "execution_count": 2,
   "metadata": {
    "tags": [
     "challengify"
    ]
   },
   "outputs": [
    {
     "data": {
      "text/plain": [
       "0    28432\n",
       "1       49\n",
       "Name: Class, dtype: int64"
      ]
     },
     "execution_count": 2,
     "metadata": {},
     "output_type": "execute_result"
    }
   ],
   "source": [
    "data.Class.value_counts()"
   ]
  },
  {
   "cell_type": "code",
   "execution_count": 5,
   "metadata": {},
   "outputs": [
    {
     "name": "stderr",
     "output_type": "stream",
     "text": [
      "/Users/bingobango/.pyenv/versions/3.10.6/envs/tom/lib/python3.10/site-packages/seaborn/_decorators.py:36: FutureWarning: Pass the following variable as a keyword arg: x. From version 0.12, the only valid positional argument will be `data`, and passing other arguments without an explicit keyword will result in an error or misinterpretation.\n",
      "  warnings.warn(\n"
     ]
    },
    {
     "data": {
      "text/plain": [
       "<AxesSubplot:xlabel='Class', ylabel='count'>"
      ]
     },
     "execution_count": 5,
     "metadata": {},
     "output_type": "execute_result"
    },
    {
     "data": {
      "image/png": "[encoded data removed]",
      "text/plain": [
       "<Figure size 640x480 with 1 Axes>"
      ]
     },
     "metadata": {},
     "output_type": "display_data"
    }
   ],
   "source": [
    "import seaborn as sns\n",
    "sns.countplot(data.Class)"
   ]
  },
  {
   "cell_type": "markdown",
   "metadata": {},
   "source": [
    "👇 Evaluate a base `LogisticRegression` for Recall. Use model parameter `class_weight = 'balanced'` to ensure it deals with class imbalance."
   ]
  },
  {
   "cell_type": "code",
   "execution_count": 2,
   "metadata": {
    "tags": [
     "challengify"
    ]
   },
   "outputs": [
    {
     "data": {
      "text/plain": [
       "0.8800000000000001"
      ]
     },
     "execution_count": 2,
     "metadata": {},
     "output_type": "execute_result"
    }
   ],
   "source": [
    "from sklearn.model_selection import cross_validate\n",
    "from sklearn.linear_model import LogisticRegression\n",
    "from sklearn.preprocessing import RobustScaler\n",
    "\n",
    "# Ready X and y\n",
    "X = data.loc[:, 'V1':'Amount']\n",
    "y = data['Class']\n",
    "\n",
    "scaler = RobustScaler()\n",
    "\n",
    "X_scaled = scaler.fit_transform(X)\n",
    "\n",
    "\n",
    "# 10-Fold Cross validate model\n",
    "log_cv_results = cross_validate(LogisticRegression(max_iter=1000, class_weight = 'balanced' ), X_scaled, y, cv=10, \n",
    "                            scoring=['recall'])\n",
    "\n",
    "log_cv_results['test_recall'].mean()"
   ]
  },
  {
   "cell_type": "markdown",
   "metadata": {},
   "source": [
    "ℹ️ A default Logistic Regression model can't guarantee a 90% recall. Its decision threshold needs to be adjusted to reach such a score."
   ]
  },
  {
   "cell_type": "markdown",
   "metadata": {},
   "source": [
    "# Threshold adjustment"
   ]
  },
  {
   "cell_type": "code",
   "execution_count": 3,
   "metadata": {
    "tags": [
     "challengify"
    ]
   },
   "outputs": [
    {
     "data": {
      "text/plain": [
       "0.0005352642047617083"
      ]
     },
     "execution_count": 3,
     "metadata": {},
     "output_type": "execute_result"
    }
   ],
   "source": [
    "from sklearn.model_selection import cross_val_predict\n",
    "from sklearn.metrics import precision_recall_curve\n",
    "\n",
    "# Predict probabilities\n",
    "y_pred_probas_0, y_pred_probas_1 = cross_val_predict(LogisticRegression(max_iter=1000,class_weight = 'balanced'),\n",
    "                                                     X_scaled,y,\n",
    "                                                     method = \"predict_proba\").T\n",
    "\n",
    "# Generate precision and thresholds (and recalls) using probabilities for class 1\n",
    "precision, recall, thresholds = precision_recall_curve(y, y_pred_probas_1)\n",
    "\n",
    "# Populate dataframe with precision and threshold\n",
    "df_recall = pd.DataFrame({\"recall\" : recall[:-1], \"threshold\" : thresholds})\n",
    "\n",
    "# Find out which threshold guarantees a recall of 0.95\n",
    "new_threshold = df_recall[df_recall['recall'] >= 0.9]['threshold'].max()\n",
    "\n",
    "new_threshold"
   ]
  },
  {
   "cell_type": "code",
   "execution_count": null,
   "metadata": {},
   "outputs": [],
   "source": []
  }
 ],
 "metadata": {
  "kernelspec": {
   "display_name": "Python 3 (ipykernel)",
   "language": "python",
   "name": "python3"
  },
  "language_info": {
   "codemirror_mode": {
    "name": "ipython",
    "version": 3
   },
   "file_extension": ".py",
   "mimetype": "text/x-python",
   "name": "python",
   "nbconvert_exporter": "python",
   "pygments_lexer": "ipython3",
   "version": "3.10.6"
  },
  "toc": {
   "base_numbering": 1,
   "nav_menu": {},
   "number_sections": true,
   "sideBar": true,
   "skip_h1_title": false,
   "title_cell": "Table of Contents",
   "title_sidebar": "Contents",
   "toc_cell": false,
   "toc_position": {},
   "toc_section_display": true,
   "toc_window_display": false
  }
 },
 "nbformat": 4,
 "nbformat_minor": 4
}
