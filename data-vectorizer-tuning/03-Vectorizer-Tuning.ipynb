{
 "cells": [
  {
   "cell_type": "markdown",
   "metadata": {},
   "source": [
    "# Vectorizer + NaiveBayes Tuning"
   ]
  },
  {
   "cell_type": "markdown",
   "metadata": {},
   "source": [
    "🎯 The goal of this challenge is to create a Pipeline combining a Vectorizer + a NaiveBayes algorithm and to fine-tune the pipeline."
   ]
  },
  {
   "cell_type": "markdown",
   "metadata": {},
   "source": [
    "✍️ Let's reuse the previous dataset with $2000$ reviews classified either as \"positive\" or \"negative\"."
   ]
  },
  {
   "cell_type": "code",
   "execution_count": 1,
   "metadata": {},
   "outputs": [
    {
     "data": {
      "text/html": [
       "<div>\n",
       "<style scoped>\n",
       "    .dataframe tbody tr th:only-of-type {\n",
       "        vertical-align: middle;\n",
       "    }\n",
       "\n",
       "    .dataframe tbody tr th {\n",
       "        vertical-align: top;\n",
       "    }\n",
       "\n",
       "    .dataframe thead th {\n",
       "        text-align: right;\n",
       "    }\n",
       "</style>\n",
       "<table border=\"1\" class=\"dataframe\">\n",
       "  <thead>\n",
       "    <tr style=\"text-align: right;\">\n",
       "      <th></th>\n",
       "      <th>target</th>\n",
       "      <th>reviews</th>\n",
       "    </tr>\n",
       "  </thead>\n",
       "  <tbody>\n",
       "    <tr>\n",
       "      <th>0</th>\n",
       "      <td>neg</td>\n",
       "      <td>plot : two teen couples go to a church party ,...</td>\n",
       "    </tr>\n",
       "    <tr>\n",
       "      <th>1</th>\n",
       "      <td>neg</td>\n",
       "      <td>the happy bastard's quick movie review \\ndamn ...</td>\n",
       "    </tr>\n",
       "    <tr>\n",
       "      <th>2</th>\n",
       "      <td>neg</td>\n",
       "      <td>it is movies like these that make a jaded movi...</td>\n",
       "    </tr>\n",
       "    <tr>\n",
       "      <th>3</th>\n",
       "      <td>neg</td>\n",
       "      <td>\" quest for camelot \" is warner bros . ' firs...</td>\n",
       "    </tr>\n",
       "    <tr>\n",
       "      <th>4</th>\n",
       "      <td>neg</td>\n",
       "      <td>synopsis : a mentally unstable man undergoing ...</td>\n",
       "    </tr>\n",
       "  </tbody>\n",
       "</table>\n",
       "</div>"
      ],
      "text/plain": [
       "  target                                            reviews\n",
       "0    neg  plot : two teen couples go to a church party ,...\n",
       "1    neg  the happy bastard's quick movie review \\ndamn ...\n",
       "2    neg  it is movies like these that make a jaded movi...\n",
       "3    neg   \" quest for camelot \" is warner bros . ' firs...\n",
       "4    neg  synopsis : a mentally unstable man undergoing ..."
      ]
     },
     "execution_count": 1,
     "metadata": {},
     "output_type": "execute_result"
    }
   ],
   "source": [
    "import pandas as pd\n",
    "\n",
    "data = pd.read_csv(\"https://wagon-public-datasets.s3.amazonaws.com/05-Machine-Learning/10-Natural-Language-Processing/movie_reviews.csv\")\n",
    "data.head()"
   ]
  },
  {
   "cell_type": "code",
   "execution_count": 2,
   "metadata": {},
   "outputs": [],
   "source": [
    "from sklearn import preprocessing\n",
    "\n",
    "le = preprocessing.LabelEncoder()\n",
    "data[\"target_encoded\"] =  le.fit_transform(data.target)"
   ]
  },
  {
   "cell_type": "code",
   "execution_count": 3,
   "metadata": {},
   "outputs": [
    {
     "data": {
      "text/html": [
       "<div>\n",
       "<style scoped>\n",
       "    .dataframe tbody tr th:only-of-type {\n",
       "        vertical-align: middle;\n",
       "    }\n",
       "\n",
       "    .dataframe tbody tr th {\n",
       "        vertical-align: top;\n",
       "    }\n",
       "\n",
       "    .dataframe thead th {\n",
       "        text-align: right;\n",
       "    }\n",
       "</style>\n",
       "<table border=\"1\" class=\"dataframe\">\n",
       "  <thead>\n",
       "    <tr style=\"text-align: right;\">\n",
       "      <th></th>\n",
       "      <th>target</th>\n",
       "      <th>reviews</th>\n",
       "      <th>target_encoded</th>\n",
       "    </tr>\n",
       "  </thead>\n",
       "  <tbody>\n",
       "    <tr>\n",
       "      <th>0</th>\n",
       "      <td>neg</td>\n",
       "      <td>plot : two teen couples go to a church party ,...</td>\n",
       "      <td>0</td>\n",
       "    </tr>\n",
       "    <tr>\n",
       "      <th>1</th>\n",
       "      <td>neg</td>\n",
       "      <td>the happy bastard's quick movie review \\ndamn ...</td>\n",
       "      <td>0</td>\n",
       "    </tr>\n",
       "    <tr>\n",
       "      <th>2</th>\n",
       "      <td>neg</td>\n",
       "      <td>it is movies like these that make a jaded movi...</td>\n",
       "      <td>0</td>\n",
       "    </tr>\n",
       "    <tr>\n",
       "      <th>3</th>\n",
       "      <td>neg</td>\n",
       "      <td>\" quest for camelot \" is warner bros . ' firs...</td>\n",
       "      <td>0</td>\n",
       "    </tr>\n",
       "    <tr>\n",
       "      <th>4</th>\n",
       "      <td>neg</td>\n",
       "      <td>synopsis : a mentally unstable man undergoing ...</td>\n",
       "      <td>0</td>\n",
       "    </tr>\n",
       "  </tbody>\n",
       "</table>\n",
       "</div>"
      ],
      "text/plain": [
       "  target                                            reviews  target_encoded\n",
       "0    neg  plot : two teen couples go to a church party ,...               0\n",
       "1    neg  the happy bastard's quick movie review \\ndamn ...               0\n",
       "2    neg  it is movies like these that make a jaded movi...               0\n",
       "3    neg   \" quest for camelot \" is warner bros . ' firs...               0\n",
       "4    neg  synopsis : a mentally unstable man undergoing ...               0"
      ]
     },
     "execution_count": 3,
     "metadata": {},
     "output_type": "execute_result"
    }
   ],
   "source": [
    "data.head()"
   ]
  },
  {
   "cell_type": "markdown",
   "metadata": {},
   "source": [
    "## Preprocessing"
   ]
  },
  {
   "cell_type": "markdown",
   "metadata": {},
   "source": [
    "❓ **Question (Cleaning)** ❓\n",
    "\n",
    "Clean your texts"
   ]
  },
  {
   "cell_type": "code",
   "execution_count": 4,
   "metadata": {},
   "outputs": [],
   "source": [
    "import string\n",
    "from nltk.corpus import stopwords \n",
    "from nltk import word_tokenize\n",
    "from nltk.stem import WordNetLemmatizer\n",
    "\n",
    "def preprocessing(sentence):\n",
    "    sentence = sentence.strip()\n",
    "    sentence = sentence.lower()\n",
    "    \n",
    "    sentence = ''.join(letter for letter in sentence if not letter.isdigit())\n",
    "    \n",
    "    for puncuation in string.punctuation:\n",
    "        sentence = sentence.replace(puncuation, '')\n",
    "    \n",
    "    tokenized = word_tokenize(sentence)\n",
    "    \n",
    "    lemmatizer = WordNetLemmatizer()\n",
    "    lemmatized = [lemmatizer.lemmatize(word) for word in tokenized]\n",
    "    clean_sentence = ' '.join(lemmatized)\n",
    "    return clean_sentence"
   ]
  },
  {
   "cell_type": "code",
   "execution_count": 5,
   "metadata": {},
   "outputs": [],
   "source": [
    "# Clean reviews\n",
    "data['clean_reviews'] = data['reviews'].apply(preprocessing)"
   ]
  },
  {
   "cell_type": "code",
   "execution_count": 6,
   "metadata": {},
   "outputs": [
    {
     "data": {
      "text/html": [
       "<div>\n",
       "<style scoped>\n",
       "    .dataframe tbody tr th:only-of-type {\n",
       "        vertical-align: middle;\n",
       "    }\n",
       "\n",
       "    .dataframe tbody tr th {\n",
       "        vertical-align: top;\n",
       "    }\n",
       "\n",
       "    .dataframe thead th {\n",
       "        text-align: right;\n",
       "    }\n",
       "</style>\n",
       "<table border=\"1\" class=\"dataframe\">\n",
       "  <thead>\n",
       "    <tr style=\"text-align: right;\">\n",
       "      <th></th>\n",
       "      <th>target</th>\n",
       "      <th>reviews</th>\n",
       "      <th>target_encoded</th>\n",
       "      <th>clean_reviews</th>\n",
       "    </tr>\n",
       "  </thead>\n",
       "  <tbody>\n",
       "    <tr>\n",
       "      <th>0</th>\n",
       "      <td>neg</td>\n",
       "      <td>plot : two teen couples go to a church party ,...</td>\n",
       "      <td>0</td>\n",
       "      <td>plot two teen couple go to a church party drin...</td>\n",
       "    </tr>\n",
       "    <tr>\n",
       "      <th>1</th>\n",
       "      <td>neg</td>\n",
       "      <td>the happy bastard's quick movie review \\ndamn ...</td>\n",
       "      <td>0</td>\n",
       "      <td>the happy bastard quick movie review damn that...</td>\n",
       "    </tr>\n",
       "    <tr>\n",
       "      <th>2</th>\n",
       "      <td>neg</td>\n",
       "      <td>it is movies like these that make a jaded movi...</td>\n",
       "      <td>0</td>\n",
       "      <td>it is movie like these that make a jaded movie...</td>\n",
       "    </tr>\n",
       "    <tr>\n",
       "      <th>3</th>\n",
       "      <td>neg</td>\n",
       "      <td>\" quest for camelot \" is warner bros . ' firs...</td>\n",
       "      <td>0</td>\n",
       "      <td>quest for camelot is warner bros first feature...</td>\n",
       "    </tr>\n",
       "    <tr>\n",
       "      <th>4</th>\n",
       "      <td>neg</td>\n",
       "      <td>synopsis : a mentally unstable man undergoing ...</td>\n",
       "      <td>0</td>\n",
       "      <td>synopsis a mentally unstable man undergoing ps...</td>\n",
       "    </tr>\n",
       "  </tbody>\n",
       "</table>\n",
       "</div>"
      ],
      "text/plain": [
       "  target                                            reviews  target_encoded  \\\n",
       "0    neg  plot : two teen couples go to a church party ,...               0   \n",
       "1    neg  the happy bastard's quick movie review \\ndamn ...               0   \n",
       "2    neg  it is movies like these that make a jaded movi...               0   \n",
       "3    neg   \" quest for camelot \" is warner bros . ' firs...               0   \n",
       "4    neg  synopsis : a mentally unstable man undergoing ...               0   \n",
       "\n",
       "                                       clean_reviews  \n",
       "0  plot two teen couple go to a church party drin...  \n",
       "1  the happy bastard quick movie review damn that...  \n",
       "2  it is movie like these that make a jaded movie...  \n",
       "3  quest for camelot is warner bros first feature...  \n",
       "4  synopsis a mentally unstable man undergoing ps...  "
      ]
     },
     "execution_count": 6,
     "metadata": {},
     "output_type": "execute_result"
    }
   ],
   "source": [
    "data.head()"
   ]
  },
  {
   "cell_type": "markdown",
   "metadata": {},
   "source": [
    "## Tuning"
   ]
  },
  {
   "cell_type": "markdown",
   "metadata": {},
   "source": [
    "❓ **Question (Pipelining a Vectorizer and a NaiveBayes Model)** ❓\n",
    "\n",
    "* Create a Pipeline that chains a vectorizer of your choice with a NaiveBayes model\n",
    "* Optimize it\n",
    "* What is your best estimator ?"
   ]
  },
  {
   "cell_type": "code",
   "execution_count": 12,
   "metadata": {},
   "outputs": [],
   "source": [
    "from sklearn.model_selection import GridSearchCV\n",
    "from sklearn.pipeline import Pipeline, make_pipeline\n",
    "from sklearn.feature_extraction.text import TfidfVectorizer\n",
    "from sklearn.naive_bayes import MultinomialNB\n",
    "from sklearn import set_config; set_config(\"diagram\")\n",
    "\n",
    "# Create Pipeline\n",
    "pipeline = make_pipeline(\n",
    "    TfidfVectorizer(),\n",
    "    MultinomialNB())\n",
    "\n",
    "# Set parameters to search\n",
    "params = {\n",
    "    'tfidfvectorizer__ngram_range': ((1,1), (2,2)),\n",
    "    'tfidfvectorizer__min_df': (0.01,0.05),\n",
    "    'tfidfvectorizer__max_df': (0.8,0.9),\n",
    "    'multinomialnb__alpha': (0.01,0.1,1,10)\n",
    "}\n",
    "\n",
    "# Perform grid search on pipeline\n",
    "grid_search = GridSearchCV(\n",
    "                pipeline,\n",
    "                params, \n",
    "                n_jobs=-1,\n",
    "                verbose=1, \n",
    "                scoring='accuracy', \n",
    "                cv=5)\n"
   ]
  },
  {
   "cell_type": "code",
   "execution_count": 13,
   "metadata": {
    "tags": [
     "challengify"
    ]
   },
   "outputs": [
    {
     "name": "stdout",
     "output_type": "stream",
     "text": [
      "Fitting 5 folds for each of 32 candidates, totalling 160 fits\n"
     ]
    },
    {
     "data": {
      "text/html": [
       "<style>#sk-container-id-1 {color: black;background-color: white;}#sk-container-id-1 pre{padding: 0;}#sk-container-id-1 div.sk-toggleable {background-color: white;}#sk-container-id-1 label.sk-toggleable__label {cursor: pointer;display: block;width: 100%;margin-bottom: 0;padding: 0.3em;box-sizing: border-box;text-align: center;}#sk-container-id-1 label.sk-toggleable__label-arrow:before {content: \"▸\";float: left;margin-right: 0.25em;color: #696969;}#sk-container-id-1 label.sk-toggleable__label-arrow:hover:before {color: black;}#sk-container-id-1 div.sk-estimator:hover label.sk-toggleable__label-arrow:before {color: black;}#sk-container-id-1 div.sk-toggleable__content {max-height: 0;max-width: 0;overflow: hidden;text-align: left;background-color: #f0f8ff;}#sk-container-id-1 div.sk-toggleable__content pre {margin: 0.2em;color: black;border-radius: 0.25em;background-color: #f0f8ff;}#sk-container-id-1 input.sk-toggleable__control:checked~div.sk-toggleable__content {max-height: 200px;max-width: 100%;overflow: auto;}#sk-container-id-1 input.sk-toggleable__control:checked~label.sk-toggleable__label-arrow:before {content: \"▾\";}#sk-container-id-1 div.sk-estimator input.sk-toggleable__control:checked~label.sk-toggleable__label {background-color: #d4ebff;}#sk-container-id-1 div.sk-label input.sk-toggleable__control:checked~label.sk-toggleable__label {background-color: #d4ebff;}#sk-container-id-1 input.sk-hidden--visually {border: 0;clip: rect(1px 1px 1px 1px);clip: rect(1px, 1px, 1px, 1px);height: 1px;margin: -1px;overflow: hidden;padding: 0;position: absolute;width: 1px;}#sk-container-id-1 div.sk-estimator {font-family: monospace;background-color: #f0f8ff;border: 1px dotted black;border-radius: 0.25em;box-sizing: border-box;margin-bottom: 0.5em;}#sk-container-id-1 div.sk-estimator:hover {background-color: #d4ebff;}#sk-container-id-1 div.sk-parallel-item::after {content: \"\";width: 100%;border-bottom: 1px solid gray;flex-grow: 1;}#sk-container-id-1 div.sk-label:hover label.sk-toggleable__label {background-color: #d4ebff;}#sk-container-id-1 div.sk-serial::before {content: \"\";position: absolute;border-left: 1px solid gray;box-sizing: border-box;top: 0;bottom: 0;left: 50%;z-index: 0;}#sk-container-id-1 div.sk-serial {display: flex;flex-direction: column;align-items: center;background-color: white;padding-right: 0.2em;padding-left: 0.2em;position: relative;}#sk-container-id-1 div.sk-item {position: relative;z-index: 1;}#sk-container-id-1 div.sk-parallel {display: flex;align-items: stretch;justify-content: center;background-color: white;position: relative;}#sk-container-id-1 div.sk-item::before, #sk-container-id-1 div.sk-parallel-item::before {content: \"\";position: absolute;border-left: 1px solid gray;box-sizing: border-box;top: 0;bottom: 0;left: 50%;z-index: -1;}#sk-container-id-1 div.sk-parallel-item {display: flex;flex-direction: column;z-index: 1;position: relative;background-color: white;}#sk-container-id-1 div.sk-parallel-item:first-child::after {align-self: flex-end;width: 50%;}#sk-container-id-1 div.sk-parallel-item:last-child::after {align-self: flex-start;width: 50%;}#sk-container-id-1 div.sk-parallel-item:only-child::after {width: 0;}#sk-container-id-1 div.sk-dashed-wrapped {border: 1px dashed gray;margin: 0 0.4em 0.5em 0.4em;box-sizing: border-box;padding-bottom: 0.4em;background-color: white;}#sk-container-id-1 div.sk-label label {font-family: monospace;font-weight: bold;display: inline-block;line-height: 1.2em;}#sk-container-id-1 div.sk-label-container {text-align: center;}#sk-container-id-1 div.sk-container {/* jupyter's `normalize.less` sets `[hidden] { display: none; }` but bootstrap.min.css set `[hidden] { display: none !important; }` so we also need the `!important` here to be able to override the default hidden behavior on the sphinx rendered scikit-learn.org. See: https://github.com/scikit-learn/scikit-learn/issues/21755 */display: inline-block !important;position: relative;}#sk-container-id-1 div.sk-text-repr-fallback {display: none;}</style><div id=\"sk-container-id-1\" class=\"sk-top-container\"><div class=\"sk-text-repr-fallback\"><pre>GridSearchCV(cv=5,\n",
       "             estimator=Pipeline(steps=[(&#x27;tfidfvectorizer&#x27;, TfidfVectorizer()),\n",
       "                                       (&#x27;multinomialnb&#x27;, MultinomialNB())]),\n",
       "             n_jobs=-1,\n",
       "             param_grid={&#x27;multinomialnb__alpha&#x27;: (0.01, 0.1, 1, 10),\n",
       "                         &#x27;tfidfvectorizer__max_df&#x27;: (0.8, 0.9),\n",
       "                         &#x27;tfidfvectorizer__min_df&#x27;: (0.01, 0.05),\n",
       "                         &#x27;tfidfvectorizer__ngram_range&#x27;: ((1, 1), (2, 2))},\n",
       "             scoring=&#x27;accuracy&#x27;, verbose=1)</pre><b>In a Jupyter environment, please rerun this cell to show the HTML representation or trust the notebook. <br />On GitHub, the HTML representation is unable to render, please try loading this page with nbviewer.org.</b></div><div class=\"sk-container\" hidden><div class=\"sk-item sk-dashed-wrapped\"><div class=\"sk-label-container\"><div class=\"sk-label sk-toggleable\"><input class=\"sk-toggleable__control sk-hidden--visually\" id=\"sk-estimator-id-1\" type=\"checkbox\" ><label for=\"sk-estimator-id-1\" class=\"sk-toggleable__label sk-toggleable__label-arrow\">GridSearchCV</label><div class=\"sk-toggleable__content\"><pre>GridSearchCV(cv=5,\n",
       "             estimator=Pipeline(steps=[(&#x27;tfidfvectorizer&#x27;, TfidfVectorizer()),\n",
       "                                       (&#x27;multinomialnb&#x27;, MultinomialNB())]),\n",
       "             n_jobs=-1,\n",
       "             param_grid={&#x27;multinomialnb__alpha&#x27;: (0.01, 0.1, 1, 10),\n",
       "                         &#x27;tfidfvectorizer__max_df&#x27;: (0.8, 0.9),\n",
       "                         &#x27;tfidfvectorizer__min_df&#x27;: (0.01, 0.05),\n",
       "                         &#x27;tfidfvectorizer__ngram_range&#x27;: ((1, 1), (2, 2))},\n",
       "             scoring=&#x27;accuracy&#x27;, verbose=1)</pre></div></div></div><div class=\"sk-parallel\"><div class=\"sk-parallel-item\"><div class=\"sk-item\"><div class=\"sk-label-container\"><div class=\"sk-label sk-toggleable\"><input class=\"sk-toggleable__control sk-hidden--visually\" id=\"sk-estimator-id-2\" type=\"checkbox\" ><label for=\"sk-estimator-id-2\" class=\"sk-toggleable__label sk-toggleable__label-arrow\">estimator: Pipeline</label><div class=\"sk-toggleable__content\"><pre>Pipeline(steps=[(&#x27;tfidfvectorizer&#x27;, TfidfVectorizer()),\n",
       "                (&#x27;multinomialnb&#x27;, MultinomialNB())])</pre></div></div></div><div class=\"sk-serial\"><div class=\"sk-item\"><div class=\"sk-serial\"><div class=\"sk-item\"><div class=\"sk-estimator sk-toggleable\"><input class=\"sk-toggleable__control sk-hidden--visually\" id=\"sk-estimator-id-3\" type=\"checkbox\" ><label for=\"sk-estimator-id-3\" class=\"sk-toggleable__label sk-toggleable__label-arrow\">TfidfVectorizer</label><div class=\"sk-toggleable__content\"><pre>TfidfVectorizer()</pre></div></div></div><div class=\"sk-item\"><div class=\"sk-estimator sk-toggleable\"><input class=\"sk-toggleable__control sk-hidden--visually\" id=\"sk-estimator-id-4\" type=\"checkbox\" ><label for=\"sk-estimator-id-4\" class=\"sk-toggleable__label sk-toggleable__label-arrow\">MultinomialNB</label><div class=\"sk-toggleable__content\"><pre>MultinomialNB()</pre></div></div></div></div></div></div></div></div></div></div></div></div>"
      ],
      "text/plain": [
       "GridSearchCV(cv=5,\n",
       "             estimator=Pipeline(steps=[('tfidfvectorizer', TfidfVectorizer()),\n",
       "                                       ('multinomialnb', MultinomialNB())]),\n",
       "             n_jobs=-1,\n",
       "             param_grid={'multinomialnb__alpha': (0.01, 0.1, 1, 10),\n",
       "                         'tfidfvectorizer__max_df': (0.8, 0.9),\n",
       "                         'tfidfvectorizer__min_df': (0.01, 0.05),\n",
       "                         'tfidfvectorizer__ngram_range': ((1, 1), (2, 2))},\n",
       "             scoring='accuracy', verbose=1)"
      ]
     },
     "execution_count": 13,
     "metadata": {},
     "output_type": "execute_result"
    }
   ],
   "source": [
    "grid_search.fit(data.clean_reviews, data.target_encoded)"
   ]
  },
  {
   "cell_type": "code",
   "execution_count": 19,
   "metadata": {},
   "outputs": [
    {
     "data": {
      "text/plain": [
       "{'mean_fit_time': array([1.76116295, 3.68965454, 1.78130541, 3.6006526 , 1.72901382,\n",
       "        3.54855251, 1.72667842, 3.6210402 , 1.77535748, 3.63778925,\n",
       "        1.74424558, 3.54710135, 1.7365078 , 3.56860056, 1.74913001,\n",
       "        3.51904082, 1.74342337, 3.56573954, 1.71704021, 3.51567516,\n",
       "        1.72456694, 3.52173066, 1.71128445, 3.52065496, 1.74229522,\n",
       "        3.58638573, 1.72997518, 3.56286597, 1.75130868, 3.45409565,\n",
       "        1.7502769 , 2.66720004]),\n",
       " 'std_fit_time': array([0.02190951, 0.01741907, 0.01606762, 0.03829045, 0.01535483,\n",
       "        0.0497983 , 0.02555874, 0.0616174 , 0.02623008, 0.05469496,\n",
       "        0.01504505, 0.01470434, 0.01648612, 0.04363108, 0.01758087,\n",
       "        0.0350453 , 0.02718465, 0.03390588, 0.01279766, 0.02522043,\n",
       "        0.02822749, 0.02262334, 0.01399999, 0.04061246, 0.02701035,\n",
       "        0.0420751 , 0.01504951, 0.0474359 , 0.02882588, 0.11009908,\n",
       "        0.01388772, 0.33321638]),\n",
       " 'mean_score_time': array([0.42685785, 0.68052788, 0.43273478, 0.64561019, 0.44207888,\n",
       "        0.67884874, 0.42143979, 0.64465108, 0.52160878, 0.6614912 ,\n",
       "        0.4265132 , 0.64206538, 0.44498501, 0.66535926, 0.42799039,\n",
       "        0.62927599, 0.44475508, 0.67258644, 0.42933578, 0.62928243,\n",
       "        0.43317738, 0.66448956, 0.42871575, 0.63487239, 0.44855199,\n",
       "        0.67929974, 0.43545265, 0.62606306, 0.43092589, 0.56306939,\n",
       "        0.4405097 , 0.34838471]),\n",
       " 'std_score_time': array([0.01619322, 0.02953062, 0.01359774, 0.03134552, 0.01669315,\n",
       "        0.0375934 , 0.01295339, 0.02609468, 0.0393268 , 0.02086596,\n",
       "        0.01403245, 0.03414549, 0.01383173, 0.0222544 , 0.01854301,\n",
       "        0.02340652, 0.01418177, 0.03292548, 0.01777614, 0.02280342,\n",
       "        0.01805934, 0.01247207, 0.01721391, 0.02271439, 0.01380956,\n",
       "        0.02665722, 0.019335  , 0.02567138, 0.01359005, 0.09381148,\n",
       "        0.01797689, 0.01213535]),\n",
       " 'param_multinomialnb__alpha': masked_array(data=[0.01, 0.01, 0.01, 0.01, 0.01, 0.01, 0.01, 0.01, 0.1,\n",
       "                    0.1, 0.1, 0.1, 0.1, 0.1, 0.1, 0.1, 1, 1, 1, 1, 1, 1, 1,\n",
       "                    1, 10, 10, 10, 10, 10, 10, 10, 10],\n",
       "              mask=[False, False, False, False, False, False, False, False,\n",
       "                    False, False, False, False, False, False, False, False,\n",
       "                    False, False, False, False, False, False, False, False,\n",
       "                    False, False, False, False, False, False, False, False],\n",
       "        fill_value='?',\n",
       "             dtype=object),\n",
       " 'param_tfidfvectorizer__max_df': masked_array(data=[0.8, 0.8, 0.8, 0.8, 0.9, 0.9, 0.9, 0.9, 0.8, 0.8, 0.8,\n",
       "                    0.8, 0.9, 0.9, 0.9, 0.9, 0.8, 0.8, 0.8, 0.8, 0.9, 0.9,\n",
       "                    0.9, 0.9, 0.8, 0.8, 0.8, 0.8, 0.9, 0.9, 0.9, 0.9],\n",
       "              mask=[False, False, False, False, False, False, False, False,\n",
       "                    False, False, False, False, False, False, False, False,\n",
       "                    False, False, False, False, False, False, False, False,\n",
       "                    False, False, False, False, False, False, False, False],\n",
       "        fill_value='?',\n",
       "             dtype=object),\n",
       " 'param_tfidfvectorizer__min_df': masked_array(data=[0.01, 0.01, 0.05, 0.05, 0.01, 0.01, 0.05, 0.05, 0.01,\n",
       "                    0.01, 0.05, 0.05, 0.01, 0.01, 0.05, 0.05, 0.01, 0.01,\n",
       "                    0.05, 0.05, 0.01, 0.01, 0.05, 0.05, 0.01, 0.01, 0.05,\n",
       "                    0.05, 0.01, 0.01, 0.05, 0.05],\n",
       "              mask=[False, False, False, False, False, False, False, False,\n",
       "                    False, False, False, False, False, False, False, False,\n",
       "                    False, False, False, False, False, False, False, False,\n",
       "                    False, False, False, False, False, False, False, False],\n",
       "        fill_value='?',\n",
       "             dtype=object),\n",
       " 'param_tfidfvectorizer__ngram_range': masked_array(data=[(1, 1), (2, 2), (1, 1), (2, 2), (1, 1), (2, 2), (1, 1),\n",
       "                    (2, 2), (1, 1), (2, 2), (1, 1), (2, 2), (1, 1), (2, 2),\n",
       "                    (1, 1), (2, 2), (1, 1), (2, 2), (1, 1), (2, 2), (1, 1),\n",
       "                    (2, 2), (1, 1), (2, 2), (1, 1), (2, 2), (1, 1), (2, 2),\n",
       "                    (1, 1), (2, 2), (1, 1), (2, 2)],\n",
       "              mask=[False, False, False, False, False, False, False, False,\n",
       "                    False, False, False, False, False, False, False, False,\n",
       "                    False, False, False, False, False, False, False, False,\n",
       "                    False, False, False, False, False, False, False, False],\n",
       "        fill_value='?',\n",
       "             dtype=object),\n",
       " 'params': [{'multinomialnb__alpha': 0.01,\n",
       "   'tfidfvectorizer__max_df': 0.8,\n",
       "   'tfidfvectorizer__min_df': 0.01,\n",
       "   'tfidfvectorizer__ngram_range': (1, 1)},\n",
       "  {'multinomialnb__alpha': 0.01,\n",
       "   'tfidfvectorizer__max_df': 0.8,\n",
       "   'tfidfvectorizer__min_df': 0.01,\n",
       "   'tfidfvectorizer__ngram_range': (2, 2)},\n",
       "  {'multinomialnb__alpha': 0.01,\n",
       "   'tfidfvectorizer__max_df': 0.8,\n",
       "   'tfidfvectorizer__min_df': 0.05,\n",
       "   'tfidfvectorizer__ngram_range': (1, 1)},\n",
       "  {'multinomialnb__alpha': 0.01,\n",
       "   'tfidfvectorizer__max_df': 0.8,\n",
       "   'tfidfvectorizer__min_df': 0.05,\n",
       "   'tfidfvectorizer__ngram_range': (2, 2)},\n",
       "  {'multinomialnb__alpha': 0.01,\n",
       "   'tfidfvectorizer__max_df': 0.9,\n",
       "   'tfidfvectorizer__min_df': 0.01,\n",
       "   'tfidfvectorizer__ngram_range': (1, 1)},\n",
       "  {'multinomialnb__alpha': 0.01,\n",
       "   'tfidfvectorizer__max_df': 0.9,\n",
       "   'tfidfvectorizer__min_df': 0.01,\n",
       "   'tfidfvectorizer__ngram_range': (2, 2)},\n",
       "  {'multinomialnb__alpha': 0.01,\n",
       "   'tfidfvectorizer__max_df': 0.9,\n",
       "   'tfidfvectorizer__min_df': 0.05,\n",
       "   'tfidfvectorizer__ngram_range': (1, 1)},\n",
       "  {'multinomialnb__alpha': 0.01,\n",
       "   'tfidfvectorizer__max_df': 0.9,\n",
       "   'tfidfvectorizer__min_df': 0.05,\n",
       "   'tfidfvectorizer__ngram_range': (2, 2)},\n",
       "  {'multinomialnb__alpha': 0.1,\n",
       "   'tfidfvectorizer__max_df': 0.8,\n",
       "   'tfidfvectorizer__min_df': 0.01,\n",
       "   'tfidfvectorizer__ngram_range': (1, 1)},\n",
       "  {'multinomialnb__alpha': 0.1,\n",
       "   'tfidfvectorizer__max_df': 0.8,\n",
       "   'tfidfvectorizer__min_df': 0.01,\n",
       "   'tfidfvectorizer__ngram_range': (2, 2)},\n",
       "  {'multinomialnb__alpha': 0.1,\n",
       "   'tfidfvectorizer__max_df': 0.8,\n",
       "   'tfidfvectorizer__min_df': 0.05,\n",
       "   'tfidfvectorizer__ngram_range': (1, 1)},\n",
       "  {'multinomialnb__alpha': 0.1,\n",
       "   'tfidfvectorizer__max_df': 0.8,\n",
       "   'tfidfvectorizer__min_df': 0.05,\n",
       "   'tfidfvectorizer__ngram_range': (2, 2)},\n",
       "  {'multinomialnb__alpha': 0.1,\n",
       "   'tfidfvectorizer__max_df': 0.9,\n",
       "   'tfidfvectorizer__min_df': 0.01,\n",
       "   'tfidfvectorizer__ngram_range': (1, 1)},\n",
       "  {'multinomialnb__alpha': 0.1,\n",
       "   'tfidfvectorizer__max_df': 0.9,\n",
       "   'tfidfvectorizer__min_df': 0.01,\n",
       "   'tfidfvectorizer__ngram_range': (2, 2)},\n",
       "  {'multinomialnb__alpha': 0.1,\n",
       "   'tfidfvectorizer__max_df': 0.9,\n",
       "   'tfidfvectorizer__min_df': 0.05,\n",
       "   'tfidfvectorizer__ngram_range': (1, 1)},\n",
       "  {'multinomialnb__alpha': 0.1,\n",
       "   'tfidfvectorizer__max_df': 0.9,\n",
       "   'tfidfvectorizer__min_df': 0.05,\n",
       "   'tfidfvectorizer__ngram_range': (2, 2)},\n",
       "  {'multinomialnb__alpha': 1,\n",
       "   'tfidfvectorizer__max_df': 0.8,\n",
       "   'tfidfvectorizer__min_df': 0.01,\n",
       "   'tfidfvectorizer__ngram_range': (1, 1)},\n",
       "  {'multinomialnb__alpha': 1,\n",
       "   'tfidfvectorizer__max_df': 0.8,\n",
       "   'tfidfvectorizer__min_df': 0.01,\n",
       "   'tfidfvectorizer__ngram_range': (2, 2)},\n",
       "  {'multinomialnb__alpha': 1,\n",
       "   'tfidfvectorizer__max_df': 0.8,\n",
       "   'tfidfvectorizer__min_df': 0.05,\n",
       "   'tfidfvectorizer__ngram_range': (1, 1)},\n",
       "  {'multinomialnb__alpha': 1,\n",
       "   'tfidfvectorizer__max_df': 0.8,\n",
       "   'tfidfvectorizer__min_df': 0.05,\n",
       "   'tfidfvectorizer__ngram_range': (2, 2)},\n",
       "  {'multinomialnb__alpha': 1,\n",
       "   'tfidfvectorizer__max_df': 0.9,\n",
       "   'tfidfvectorizer__min_df': 0.01,\n",
       "   'tfidfvectorizer__ngram_range': (1, 1)},\n",
       "  {'multinomialnb__alpha': 1,\n",
       "   'tfidfvectorizer__max_df': 0.9,\n",
       "   'tfidfvectorizer__min_df': 0.01,\n",
       "   'tfidfvectorizer__ngram_range': (2, 2)},\n",
       "  {'multinomialnb__alpha': 1,\n",
       "   'tfidfvectorizer__max_df': 0.9,\n",
       "   'tfidfvectorizer__min_df': 0.05,\n",
       "   'tfidfvectorizer__ngram_range': (1, 1)},\n",
       "  {'multinomialnb__alpha': 1,\n",
       "   'tfidfvectorizer__max_df': 0.9,\n",
       "   'tfidfvectorizer__min_df': 0.05,\n",
       "   'tfidfvectorizer__ngram_range': (2, 2)},\n",
       "  {'multinomialnb__alpha': 10,\n",
       "   'tfidfvectorizer__max_df': 0.8,\n",
       "   'tfidfvectorizer__min_df': 0.01,\n",
       "   'tfidfvectorizer__ngram_range': (1, 1)},\n",
       "  {'multinomialnb__alpha': 10,\n",
       "   'tfidfvectorizer__max_df': 0.8,\n",
       "   'tfidfvectorizer__min_df': 0.01,\n",
       "   'tfidfvectorizer__ngram_range': (2, 2)},\n",
       "  {'multinomialnb__alpha': 10,\n",
       "   'tfidfvectorizer__max_df': 0.8,\n",
       "   'tfidfvectorizer__min_df': 0.05,\n",
       "   'tfidfvectorizer__ngram_range': (1, 1)},\n",
       "  {'multinomialnb__alpha': 10,\n",
       "   'tfidfvectorizer__max_df': 0.8,\n",
       "   'tfidfvectorizer__min_df': 0.05,\n",
       "   'tfidfvectorizer__ngram_range': (2, 2)},\n",
       "  {'multinomialnb__alpha': 10,\n",
       "   'tfidfvectorizer__max_df': 0.9,\n",
       "   'tfidfvectorizer__min_df': 0.01,\n",
       "   'tfidfvectorizer__ngram_range': (1, 1)},\n",
       "  {'multinomialnb__alpha': 10,\n",
       "   'tfidfvectorizer__max_df': 0.9,\n",
       "   'tfidfvectorizer__min_df': 0.01,\n",
       "   'tfidfvectorizer__ngram_range': (2, 2)},\n",
       "  {'multinomialnb__alpha': 10,\n",
       "   'tfidfvectorizer__max_df': 0.9,\n",
       "   'tfidfvectorizer__min_df': 0.05,\n",
       "   'tfidfvectorizer__ngram_range': (1, 1)},\n",
       "  {'multinomialnb__alpha': 10,\n",
       "   'tfidfvectorizer__max_df': 0.9,\n",
       "   'tfidfvectorizer__min_df': 0.05,\n",
       "   'tfidfvectorizer__ngram_range': (2, 2)}],\n",
       " 'split0_test_score': array([0.8275, 0.7875, 0.81  , 0.7325, 0.835 , 0.7875, 0.8075, 0.7325,\n",
       "        0.83  , 0.785 , 0.81  , 0.7325, 0.835 , 0.785 , 0.8075, 0.7325,\n",
       "        0.8275, 0.7925, 0.8075, 0.7325, 0.8275, 0.79  , 0.8   , 0.735 ,\n",
       "        0.7925, 0.8   , 0.77  , 0.7325, 0.8025, 0.7975, 0.775 , 0.735 ]),\n",
       " 'split1_test_score': array([0.8375, 0.82  , 0.81  , 0.75  , 0.8375, 0.82  , 0.805 , 0.7475,\n",
       "        0.84  , 0.8175, 0.81  , 0.7475, 0.8375, 0.8175, 0.805 , 0.7475,\n",
       "        0.81  , 0.815 , 0.8125, 0.7475, 0.82  , 0.815 , 0.81  , 0.75  ,\n",
       "        0.7675, 0.8025, 0.8   , 0.7575, 0.78  , 0.8025, 0.7925, 0.7575]),\n",
       " 'split2_test_score': array([0.815 , 0.7875, 0.8   , 0.735 , 0.815 , 0.7875, 0.7975, 0.7275,\n",
       "        0.8075, 0.7825, 0.8   , 0.735 , 0.8125, 0.785 , 0.795 , 0.73  ,\n",
       "        0.805 , 0.78  , 0.7875, 0.73  , 0.8075, 0.78  , 0.7925, 0.7325,\n",
       "        0.7775, 0.775 , 0.7725, 0.75  , 0.7825, 0.775 , 0.77  , 0.7425]),\n",
       " 'split3_test_score': array([0.8225, 0.81  , 0.805 , 0.7425, 0.82  , 0.81  , 0.7875, 0.7425,\n",
       "        0.82  , 0.805 , 0.8025, 0.7425, 0.8125, 0.805 , 0.7875, 0.7425,\n",
       "        0.8   , 0.7925, 0.7925, 0.74  , 0.805 , 0.7925, 0.79  , 0.74  ,\n",
       "        0.7975, 0.795 , 0.7875, 0.7325, 0.7975, 0.79  , 0.78  , 0.7325]),\n",
       " 'split4_test_score': array([0.8425, 0.83  , 0.8125, 0.77  , 0.835 , 0.83  , 0.8075, 0.77  ,\n",
       "        0.845 , 0.8325, 0.8125, 0.77  , 0.8425, 0.8325, 0.8075, 0.77  ,\n",
       "        0.845 , 0.84  , 0.81  , 0.7625, 0.8425, 0.8375, 0.81  , 0.7625,\n",
       "        0.785 , 0.8175, 0.795 , 0.7775, 0.8025, 0.8175, 0.7875, 0.78  ]),\n",
       " 'mean_test_score': array([0.829 , 0.807 , 0.8075, 0.746 , 0.8285, 0.807 , 0.801 , 0.744 ,\n",
       "        0.8285, 0.8045, 0.807 , 0.7455, 0.828 , 0.805 , 0.8005, 0.7445,\n",
       "        0.8175, 0.804 , 0.802 , 0.7425, 0.8205, 0.803 , 0.8005, 0.744 ,\n",
       "        0.784 , 0.798 , 0.785 , 0.75  , 0.793 , 0.7965, 0.781 , 0.7495]),\n",
       " 'std_test_score': array([0.00994987, 0.01713184, 0.00447214, 0.01347219, 0.00916515,\n",
       "        0.01713184, 0.00768115, 0.01479865, 0.01356466, 0.01906568,\n",
       "        0.00484768, 0.01336039, 0.0128841 , 0.01850676, 0.00796869,\n",
       "        0.01426534, 0.01658312, 0.02124853, 0.01004988, 0.01172604,\n",
       "        0.01372953, 0.02070024, 0.00842615, 0.0110227 , 0.01067708,\n",
       "        0.01372953, 0.01193734, 0.01688194, 0.00979796, 0.01401785,\n",
       "        0.00815475, 0.01756417]),\n",
       " 'rank_test_score': array([ 1,  8,  7, 27,  2,  8, 16, 30,  2, 12,  8, 28,  4, 11, 17, 29,  6,\n",
       "        13, 15, 32,  5, 14, 18, 30, 23, 19, 22, 25, 21, 20, 24, 26],\n",
       "       dtype=int32)}"
      ]
     },
     "execution_count": 19,
     "metadata": {},
     "output_type": "execute_result"
    }
   ],
   "source": [
    "grid_search.cv_results_"
   ]
  },
  {
   "cell_type": "code",
   "execution_count": 14,
   "metadata": {},
   "outputs": [
    {
     "data": {
      "text/plain": [
       "{'multinomialnb__alpha': 0.01,\n",
       " 'tfidfvectorizer__max_df': 0.8,\n",
       " 'tfidfvectorizer__min_df': 0.01,\n",
       " 'tfidfvectorizer__ngram_range': (1, 1)}"
      ]
     },
     "execution_count": 14,
     "metadata": {},
     "output_type": "execute_result"
    }
   ],
   "source": [
    "grid_search.best_params_"
   ]
  },
  {
   "cell_type": "code",
   "execution_count": 17,
   "metadata": {},
   "outputs": [
    {
     "data": {
      "text/plain": [
       "0.83"
      ]
     },
     "execution_count": 17,
     "metadata": {},
     "output_type": "execute_result"
    }
   ],
   "source": [
    "round((grid_search.best_score_),2)"
   ]
  },
  {
   "cell_type": "code",
   "execution_count": 20,
   "metadata": {},
   "outputs": [
    {
     "data": {
      "text/html": [
       "<style>#sk-container-id-2 {color: black;background-color: white;}#sk-container-id-2 pre{padding: 0;}#sk-container-id-2 div.sk-toggleable {background-color: white;}#sk-container-id-2 label.sk-toggleable__label {cursor: pointer;display: block;width: 100%;margin-bottom: 0;padding: 0.3em;box-sizing: border-box;text-align: center;}#sk-container-id-2 label.sk-toggleable__label-arrow:before {content: \"▸\";float: left;margin-right: 0.25em;color: #696969;}#sk-container-id-2 label.sk-toggleable__label-arrow:hover:before {color: black;}#sk-container-id-2 div.sk-estimator:hover label.sk-toggleable__label-arrow:before {color: black;}#sk-container-id-2 div.sk-toggleable__content {max-height: 0;max-width: 0;overflow: hidden;text-align: left;background-color: #f0f8ff;}#sk-container-id-2 div.sk-toggleable__content pre {margin: 0.2em;color: black;border-radius: 0.25em;background-color: #f0f8ff;}#sk-container-id-2 input.sk-toggleable__control:checked~div.sk-toggleable__content {max-height: 200px;max-width: 100%;overflow: auto;}#sk-container-id-2 input.sk-toggleable__control:checked~label.sk-toggleable__label-arrow:before {content: \"▾\";}#sk-container-id-2 div.sk-estimator input.sk-toggleable__control:checked~label.sk-toggleable__label {background-color: #d4ebff;}#sk-container-id-2 div.sk-label input.sk-toggleable__control:checked~label.sk-toggleable__label {background-color: #d4ebff;}#sk-container-id-2 input.sk-hidden--visually {border: 0;clip: rect(1px 1px 1px 1px);clip: rect(1px, 1px, 1px, 1px);height: 1px;margin: -1px;overflow: hidden;padding: 0;position: absolute;width: 1px;}#sk-container-id-2 div.sk-estimator {font-family: monospace;background-color: #f0f8ff;border: 1px dotted black;border-radius: 0.25em;box-sizing: border-box;margin-bottom: 0.5em;}#sk-container-id-2 div.sk-estimator:hover {background-color: #d4ebff;}#sk-container-id-2 div.sk-parallel-item::after {content: \"\";width: 100%;border-bottom: 1px solid gray;flex-grow: 1;}#sk-container-id-2 div.sk-label:hover label.sk-toggleable__label {background-color: #d4ebff;}#sk-container-id-2 div.sk-serial::before {content: \"\";position: absolute;border-left: 1px solid gray;box-sizing: border-box;top: 0;bottom: 0;left: 50%;z-index: 0;}#sk-container-id-2 div.sk-serial {display: flex;flex-direction: column;align-items: center;background-color: white;padding-right: 0.2em;padding-left: 0.2em;position: relative;}#sk-container-id-2 div.sk-item {position: relative;z-index: 1;}#sk-container-id-2 div.sk-parallel {display: flex;align-items: stretch;justify-content: center;background-color: white;position: relative;}#sk-container-id-2 div.sk-item::before, #sk-container-id-2 div.sk-parallel-item::before {content: \"\";position: absolute;border-left: 1px solid gray;box-sizing: border-box;top: 0;bottom: 0;left: 50%;z-index: -1;}#sk-container-id-2 div.sk-parallel-item {display: flex;flex-direction: column;z-index: 1;position: relative;background-color: white;}#sk-container-id-2 div.sk-parallel-item:first-child::after {align-self: flex-end;width: 50%;}#sk-container-id-2 div.sk-parallel-item:last-child::after {align-self: flex-start;width: 50%;}#sk-container-id-2 div.sk-parallel-item:only-child::after {width: 0;}#sk-container-id-2 div.sk-dashed-wrapped {border: 1px dashed gray;margin: 0 0.4em 0.5em 0.4em;box-sizing: border-box;padding-bottom: 0.4em;background-color: white;}#sk-container-id-2 div.sk-label label {font-family: monospace;font-weight: bold;display: inline-block;line-height: 1.2em;}#sk-container-id-2 div.sk-label-container {text-align: center;}#sk-container-id-2 div.sk-container {/* jupyter's `normalize.less` sets `[hidden] { display: none; }` but bootstrap.min.css set `[hidden] { display: none !important; }` so we also need the `!important` here to be able to override the default hidden behavior on the sphinx rendered scikit-learn.org. See: https://github.com/scikit-learn/scikit-learn/issues/21755 */display: inline-block !important;position: relative;}#sk-container-id-2 div.sk-text-repr-fallback {display: none;}</style><div id=\"sk-container-id-2\" class=\"sk-top-container\"><div class=\"sk-text-repr-fallback\"><pre>Pipeline(steps=[(&#x27;tfidfvectorizer&#x27;, TfidfVectorizer(max_df=0.8, min_df=0.01)),\n",
       "                (&#x27;multinomialnb&#x27;, MultinomialNB(alpha=0.01))])</pre><b>In a Jupyter environment, please rerun this cell to show the HTML representation or trust the notebook. <br />On GitHub, the HTML representation is unable to render, please try loading this page with nbviewer.org.</b></div><div class=\"sk-container\" hidden><div class=\"sk-item sk-dashed-wrapped\"><div class=\"sk-label-container\"><div class=\"sk-label sk-toggleable\"><input class=\"sk-toggleable__control sk-hidden--visually\" id=\"sk-estimator-id-5\" type=\"checkbox\" ><label for=\"sk-estimator-id-5\" class=\"sk-toggleable__label sk-toggleable__label-arrow\">Pipeline</label><div class=\"sk-toggleable__content\"><pre>Pipeline(steps=[(&#x27;tfidfvectorizer&#x27;, TfidfVectorizer(max_df=0.8, min_df=0.01)),\n",
       "                (&#x27;multinomialnb&#x27;, MultinomialNB(alpha=0.01))])</pre></div></div></div><div class=\"sk-serial\"><div class=\"sk-item\"><div class=\"sk-estimator sk-toggleable\"><input class=\"sk-toggleable__control sk-hidden--visually\" id=\"sk-estimator-id-6\" type=\"checkbox\" ><label for=\"sk-estimator-id-6\" class=\"sk-toggleable__label sk-toggleable__label-arrow\">TfidfVectorizer</label><div class=\"sk-toggleable__content\"><pre>TfidfVectorizer(max_df=0.8, min_df=0.01)</pre></div></div></div><div class=\"sk-item\"><div class=\"sk-estimator sk-toggleable\"><input class=\"sk-toggleable__control sk-hidden--visually\" id=\"sk-estimator-id-7\" type=\"checkbox\" ><label for=\"sk-estimator-id-7\" class=\"sk-toggleable__label sk-toggleable__label-arrow\">MultinomialNB</label><div class=\"sk-toggleable__content\"><pre>MultinomialNB(alpha=0.01)</pre></div></div></div></div></div></div></div>"
      ],
      "text/plain": [
       "Pipeline(steps=[('tfidfvectorizer', TfidfVectorizer(max_df=0.8, min_df=0.01)),\n",
       "                ('multinomialnb', MultinomialNB(alpha=0.01))])"
      ]
     },
     "execution_count": 20,
     "metadata": {},
     "output_type": "execute_result"
    }
   ],
   "source": [
    "grid_search.best_estimator_"
   ]
  },
  {
   "cell_type": "markdown",
   "metadata": {},
   "source": [
    "🏁 Congratulations! You've managed to chain a Vectorizer and a NLP model and fine-tuned it!\n",
    "\n",
    "💾 Don't forget to `git add/commit/push` your notebook...\n",
    "\n",
    "🚀 ... and move on to the next challenge!"
   ]
  }
 ],
 "metadata": {
  "kernelspec": {
   "display_name": "Python 3 (ipykernel)",
   "language": "python",
   "name": "python3"
  },
  "language_info": {
   "codemirror_mode": {
    "name": "ipython",
    "version": 3
   },
   "file_extension": ".py",
   "mimetype": "text/x-python",
   "name": "python",
   "nbconvert_exporter": "python",
   "pygments_lexer": "ipython3",
   "version": "3.10.6"
  },
  "toc": {
   "base_numbering": 1,
   "nav_menu": {},
   "number_sections": true,
   "sideBar": true,
   "skip_h1_title": false,
   "title_cell": "Table of Contents",
   "title_sidebar": "Contents",
   "toc_cell": false,
   "toc_position": {},
   "toc_section_display": true,
   "toc_window_display": false
  }
 },
 "nbformat": 4,
 "nbformat_minor": 4
}
