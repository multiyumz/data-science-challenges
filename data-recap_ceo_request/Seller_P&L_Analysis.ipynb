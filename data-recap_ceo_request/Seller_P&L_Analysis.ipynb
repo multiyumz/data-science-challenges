{
 "cells": [
  {
   "cell_type": "code",
   "execution_count": 2,
   "id": "5254729c",
   "metadata": {},
   "outputs": [],
   "source": [
    "import pandas as pd\n",
    "import numpy as np"
   ]
  },
  {
   "cell_type": "code",
   "execution_count": 28,
   "id": "d986d4c4",
   "metadata": {},
   "outputs": [],
   "source": [
    "from olist.product import Product\n",
    "from olist.seller import Seller\n",
    "from olist.order import Order\n",
    "from olist.data import Olist"
   ]
  },
  {
   "cell_type": "markdown",
   "id": "25ed3b4f",
   "metadata": {},
   "source": [
    "# Product Cat"
   ]
  },
  {
   "cell_type": "code",
   "execution_count": 5,
   "id": "058104e8",
   "metadata": {},
   "outputs": [],
   "source": [
    "product = Product()"
   ]
  },
  {
   "cell_type": "markdown",
   "id": "2ac38c3d",
   "metadata": {},
   "source": [
    "products = product.get_training_data()\n",
    "products.head(5)"
   ]
  },
  {
   "cell_type": "code",
   "execution_count": 12,
   "id": "ec11a659",
   "metadata": {},
   "outputs": [],
   "source": [
    "columns = list(products.select_dtypes(exclude=['object']).columns)"
   ]
  },
  {
   "cell_type": "code",
   "execution_count": 16,
   "id": "6bfd6ac5",
   "metadata": {},
   "outputs": [],
   "source": [
    "agg = \"mean\"\n",
    "agg_params = dict(zip(columns, [agg] * len(columns)))"
   ]
  },
  {
   "cell_type": "code",
   "execution_count": 17,
   "id": "aafb7441",
   "metadata": {},
   "outputs": [],
   "source": [
    "agg_params['quantity'] = 'sum'"
   ]
  },
  {
   "cell_type": "code",
   "execution_count": 19,
   "id": "e1453870",
   "metadata": {},
   "outputs": [
    {
     "data": {
      "text/plain": [
       "{'product_name_length': 'mean',\n",
       " 'product_description_length': 'mean',\n",
       " 'product_photos_qty': 'mean',\n",
       " 'product_weight_g': 'mean',\n",
       " 'product_length_cm': 'mean',\n",
       " 'product_height_cm': 'mean',\n",
       " 'product_width_cm': 'mean',\n",
       " 'wait_time': 'mean',\n",
       " 'price': 'mean',\n",
       " 'share_of_one_stars': 'mean',\n",
       " 'share_of_five_stars': 'mean',\n",
       " 'review_score': 'mean',\n",
       " 'n_orders': 'mean',\n",
       " 'quantity': 'sum',\n",
       " 'sales': 'mean'}"
      ]
     },
     "execution_count": 19,
     "metadata": {},
     "output_type": "execute_result"
    }
   ],
   "source": [
    "agg_params"
   ]
  },
  {
   "cell_type": "code",
   "execution_count": 20,
   "id": "7f4b6f82",
   "metadata": {},
   "outputs": [],
   "source": [
    "product_cat = products.groupby('quantity').agg(agg_params)"
   ]
  },
  {
   "cell_type": "markdown",
   "id": "24310694",
   "metadata": {},
   "source": [
    "# Seller - Cost of Review"
   ]
  },
  {
   "cell_type": "code",
   "execution_count": 29,
   "id": "41b4a18a",
   "metadata": {},
   "outputs": [],
   "source": [
    "order = Order()\n",
    "data = Olist()"
   ]
  },
  {
   "cell_type": "code",
   "execution_count": 25,
   "id": "ef30aeca",
   "metadata": {},
   "outputs": [],
   "source": [
    "order_reviews = order.get_review_score()"
   ]
  },
  {
   "cell_type": "code",
   "execution_count": 31,
   "id": "054e3772",
   "metadata": {},
   "outputs": [],
   "source": [
    "order_sellers = data.get_data()['order_items'][['order_id', 'seller_id']].drop_duplicates()"
   ]
  },
  {
   "cell_type": "code",
   "execution_count": 33,
   "id": "bfc5b6a0",
   "metadata": {},
   "outputs": [
    {
     "data": {
      "text/html": [
       "<div>\n",
       "<style scoped>\n",
       "    .dataframe tbody tr th:only-of-type {\n",
       "        vertical-align: middle;\n",
       "    }\n",
       "\n",
       "    .dataframe tbody tr th {\n",
       "        vertical-align: top;\n",
       "    }\n",
       "\n",
       "    .dataframe thead th {\n",
       "        text-align: right;\n",
       "    }\n",
       "</style>\n",
       "<table border=\"1\" class=\"dataframe\">\n",
       "  <thead>\n",
       "    <tr style=\"text-align: right;\">\n",
       "      <th></th>\n",
       "      <th>order_id</th>\n",
       "      <th>dim_is_five_star</th>\n",
       "      <th>dim_is_one_star</th>\n",
       "      <th>review_score</th>\n",
       "    </tr>\n",
       "  </thead>\n",
       "  <tbody>\n",
       "    <tr>\n",
       "      <th>0</th>\n",
       "      <td>73fc7af87114b39712e6da79b0a377eb</td>\n",
       "      <td>0</td>\n",
       "      <td>0</td>\n",
       "      <td>4</td>\n",
       "    </tr>\n",
       "    <tr>\n",
       "      <th>1</th>\n",
       "      <td>a548910a1c6147796b98fdf73dbeba33</td>\n",
       "      <td>1</td>\n",
       "      <td>0</td>\n",
       "      <td>5</td>\n",
       "    </tr>\n",
       "    <tr>\n",
       "      <th>2</th>\n",
       "      <td>f9e4b658b201a9f2ecdecbb34bed034b</td>\n",
       "      <td>1</td>\n",
       "      <td>0</td>\n",
       "      <td>5</td>\n",
       "    </tr>\n",
       "    <tr>\n",
       "      <th>3</th>\n",
       "      <td>658677c97b385a9be170737859d3511b</td>\n",
       "      <td>1</td>\n",
       "      <td>0</td>\n",
       "      <td>5</td>\n",
       "    </tr>\n",
       "    <tr>\n",
       "      <th>4</th>\n",
       "      <td>8e6bfb81e283fa7e4f11123a3fb894f1</td>\n",
       "      <td>1</td>\n",
       "      <td>0</td>\n",
       "      <td>5</td>\n",
       "    </tr>\n",
       "    <tr>\n",
       "      <th>...</th>\n",
       "      <td>...</td>\n",
       "      <td>...</td>\n",
       "      <td>...</td>\n",
       "      <td>...</td>\n",
       "    </tr>\n",
       "    <tr>\n",
       "      <th>99219</th>\n",
       "      <td>2a8c23fee101d4d5662fa670396eb8da</td>\n",
       "      <td>1</td>\n",
       "      <td>0</td>\n",
       "      <td>5</td>\n",
       "    </tr>\n",
       "    <tr>\n",
       "      <th>99220</th>\n",
       "      <td>22ec9f0669f784db00fa86d035cf8602</td>\n",
       "      <td>1</td>\n",
       "      <td>0</td>\n",
       "      <td>5</td>\n",
       "    </tr>\n",
       "    <tr>\n",
       "      <th>99221</th>\n",
       "      <td>55d4004744368f5571d1f590031933e4</td>\n",
       "      <td>1</td>\n",
       "      <td>0</td>\n",
       "      <td>5</td>\n",
       "    </tr>\n",
       "    <tr>\n",
       "      <th>99222</th>\n",
       "      <td>7725825d039fc1f0ceb7635e3f7d9206</td>\n",
       "      <td>0</td>\n",
       "      <td>0</td>\n",
       "      <td>4</td>\n",
       "    </tr>\n",
       "    <tr>\n",
       "      <th>99223</th>\n",
       "      <td>90531360ecb1eec2a1fbb265a0db0508</td>\n",
       "      <td>0</td>\n",
       "      <td>1</td>\n",
       "      <td>1</td>\n",
       "    </tr>\n",
       "  </tbody>\n",
       "</table>\n",
       "<p>99224 rows × 4 columns</p>\n",
       "</div>"
      ],
      "text/plain": [
       "                               order_id  dim_is_five_star  dim_is_one_star  \\\n",
       "0      73fc7af87114b39712e6da79b0a377eb                 0                0   \n",
       "1      a548910a1c6147796b98fdf73dbeba33                 1                0   \n",
       "2      f9e4b658b201a9f2ecdecbb34bed034b                 1                0   \n",
       "3      658677c97b385a9be170737859d3511b                 1                0   \n",
       "4      8e6bfb81e283fa7e4f11123a3fb894f1                 1                0   \n",
       "...                                 ...               ...              ...   \n",
       "99219  2a8c23fee101d4d5662fa670396eb8da                 1                0   \n",
       "99220  22ec9f0669f784db00fa86d035cf8602                 1                0   \n",
       "99221  55d4004744368f5571d1f590031933e4                 1                0   \n",
       "99222  7725825d039fc1f0ceb7635e3f7d9206                 0                0   \n",
       "99223  90531360ecb1eec2a1fbb265a0db0508                 0                1   \n",
       "\n",
       "       review_score  \n",
       "0                 4  \n",
       "1                 5  \n",
       "2                 5  \n",
       "3                 5  \n",
       "4                 5  \n",
       "...             ...  \n",
       "99219             5  \n",
       "99220             5  \n",
       "99221             5  \n",
       "99222             4  \n",
       "99223             1  \n",
       "\n",
       "[99224 rows x 4 columns]"
      ]
     },
     "execution_count": 33,
     "metadata": {},
     "output_type": "execute_result"
    }
   ],
   "source": [
    "order_reviews"
   ]
  },
  {
   "cell_type": "code",
   "execution_count": 34,
   "id": "296f894b",
   "metadata": {},
   "outputs": [],
   "source": [
    "df = order_sellers.merge(order_reviews, on='order_id')"
   ]
  },
  {
   "cell_type": "code",
   "execution_count": 41,
   "id": "afdf312a",
   "metadata": {},
   "outputs": [],
   "source": [
    "df['cost_of_review'] = df.review_score.map({1: 100,\n",
    "                                            2: 50,\n",
    "                                            3: 40,\n",
    "                                            4: 0,\n",
    "                                            5: 0})"
   ]
  },
  {
   "cell_type": "code",
   "execution_count": 44,
   "id": "8ed843fd",
   "metadata": {},
   "outputs": [],
   "source": [
    "result = df.groupby('seller_id', as_index=False).agg(\n",
    "            {'dim_is_five_star': 'mean',\n",
    "            'dim_is_one_star': 'mean',\n",
    "            'review_score': 'mean',\n",
    "            'cost_of_review': 'sum'})\n",
    "\n",
    "result.columns = ['seller_id', 'share_of_five_stars', 'share_of_one_stars', 'review_score', 'cost_of_review']"
   ]
  },
  {
   "cell_type": "code",
   "execution_count": 45,
   "id": "15deeb0b",
   "metadata": {},
   "outputs": [
    {
     "data": {
      "text/html": [
       "<div>\n",
       "<style scoped>\n",
       "    .dataframe tbody tr th:only-of-type {\n",
       "        vertical-align: middle;\n",
       "    }\n",
       "\n",
       "    .dataframe tbody tr th {\n",
       "        vertical-align: top;\n",
       "    }\n",
       "\n",
       "    .dataframe thead th {\n",
       "        text-align: right;\n",
       "    }\n",
       "</style>\n",
       "<table border=\"1\" class=\"dataframe\">\n",
       "  <thead>\n",
       "    <tr style=\"text-align: right;\">\n",
       "      <th></th>\n",
       "      <th>seller_id</th>\n",
       "      <th>share_of_five_stars</th>\n",
       "      <th>share_of_one_stars</th>\n",
       "      <th>review_score</th>\n",
       "      <th>cost_of_review</th>\n",
       "    </tr>\n",
       "  </thead>\n",
       "  <tbody>\n",
       "    <tr>\n",
       "      <th>0</th>\n",
       "      <td>0015a82c2db000af6aaaf3ae2ecb0532</td>\n",
       "      <td>0.666667</td>\n",
       "      <td>0.333333</td>\n",
       "      <td>3.666667</td>\n",
       "      <td>100</td>\n",
       "    </tr>\n",
       "    <tr>\n",
       "      <th>1</th>\n",
       "      <td>001cca7ae9ae17fb1caed9dfb1094831</td>\n",
       "      <td>0.527919</td>\n",
       "      <td>0.121827</td>\n",
       "      <td>3.984772</td>\n",
       "      <td>3560</td>\n",
       "    </tr>\n",
       "    <tr>\n",
       "      <th>2</th>\n",
       "      <td>001e6ad469a905060d959994f1b41e4f</td>\n",
       "      <td>0.000000</td>\n",
       "      <td>1.000000</td>\n",
       "      <td>1.000000</td>\n",
       "      <td>100</td>\n",
       "    </tr>\n",
       "    <tr>\n",
       "      <th>3</th>\n",
       "      <td>002100f778ceb8431b7a1020ff7ab48f</td>\n",
       "      <td>0.519231</td>\n",
       "      <td>0.134615</td>\n",
       "      <td>3.903846</td>\n",
       "      <td>1110</td>\n",
       "    </tr>\n",
       "    <tr>\n",
       "      <th>4</th>\n",
       "      <td>003554e2dce176b5555353e4f3555ac8</td>\n",
       "      <td>1.000000</td>\n",
       "      <td>0.000000</td>\n",
       "      <td>5.000000</td>\n",
       "      <td>0</td>\n",
       "    </tr>\n",
       "    <tr>\n",
       "      <th>...</th>\n",
       "      <td>...</td>\n",
       "      <td>...</td>\n",
       "      <td>...</td>\n",
       "      <td>...</td>\n",
       "      <td>...</td>\n",
       "    </tr>\n",
       "    <tr>\n",
       "      <th>3085</th>\n",
       "      <td>ffcfefa19b08742c5d315f2791395ee5</td>\n",
       "      <td>0.000000</td>\n",
       "      <td>1.000000</td>\n",
       "      <td>1.000000</td>\n",
       "      <td>100</td>\n",
       "    </tr>\n",
       "    <tr>\n",
       "      <th>3086</th>\n",
       "      <td>ffdd9f82b9a447f6f8d4b91554cc7dd3</td>\n",
       "      <td>0.666667</td>\n",
       "      <td>0.055556</td>\n",
       "      <td>4.333333</td>\n",
       "      <td>190</td>\n",
       "    </tr>\n",
       "    <tr>\n",
       "      <th>3087</th>\n",
       "      <td>ffeee66ac5d5a62fe688b9d26f83f534</td>\n",
       "      <td>0.642857</td>\n",
       "      <td>0.142857</td>\n",
       "      <td>4.214286</td>\n",
       "      <td>200</td>\n",
       "    </tr>\n",
       "    <tr>\n",
       "      <th>3088</th>\n",
       "      <td>fffd5413c0700ac820c7069d66d98c89</td>\n",
       "      <td>0.542373</td>\n",
       "      <td>0.186441</td>\n",
       "      <td>3.847458</td>\n",
       "      <td>1360</td>\n",
       "    </tr>\n",
       "    <tr>\n",
       "      <th>3089</th>\n",
       "      <td>ffff564a4f9085cd26170f4732393726</td>\n",
       "      <td>0.200000</td>\n",
       "      <td>0.650000</td>\n",
       "      <td>2.100000</td>\n",
       "      <td>1420</td>\n",
       "    </tr>\n",
       "  </tbody>\n",
       "</table>\n",
       "<p>3090 rows × 5 columns</p>\n",
       "</div>"
      ],
      "text/plain": [
       "                             seller_id  share_of_five_stars  \\\n",
       "0     0015a82c2db000af6aaaf3ae2ecb0532             0.666667   \n",
       "1     001cca7ae9ae17fb1caed9dfb1094831             0.527919   \n",
       "2     001e6ad469a905060d959994f1b41e4f             0.000000   \n",
       "3     002100f778ceb8431b7a1020ff7ab48f             0.519231   \n",
       "4     003554e2dce176b5555353e4f3555ac8             1.000000   \n",
       "...                                ...                  ...   \n",
       "3085  ffcfefa19b08742c5d315f2791395ee5             0.000000   \n",
       "3086  ffdd9f82b9a447f6f8d4b91554cc7dd3             0.666667   \n",
       "3087  ffeee66ac5d5a62fe688b9d26f83f534             0.642857   \n",
       "3088  fffd5413c0700ac820c7069d66d98c89             0.542373   \n",
       "3089  ffff564a4f9085cd26170f4732393726             0.200000   \n",
       "\n",
       "      share_of_one_stars  review_score  cost_of_review  \n",
       "0               0.333333      3.666667             100  \n",
       "1               0.121827      3.984772            3560  \n",
       "2               1.000000      1.000000             100  \n",
       "3               0.134615      3.903846            1110  \n",
       "4               0.000000      5.000000               0  \n",
       "...                  ...           ...             ...  \n",
       "3085            1.000000      1.000000             100  \n",
       "3086            0.055556      4.333333             190  \n",
       "3087            0.142857      4.214286             200  \n",
       "3088            0.186441      3.847458            1360  \n",
       "3089            0.650000      2.100000            1420  \n",
       "\n",
       "[3090 rows x 5 columns]"
      ]
     },
     "execution_count": 45,
     "metadata": {},
     "output_type": "execute_result"
    }
   ],
   "source": [
    "result"
   ]
  },
  {
   "cell_type": "markdown",
   "id": "1ae2082e",
   "metadata": {},
   "source": [
    "# Seller - IT costs"
   ]
  },
  {
   "cell_type": "code",
   "execution_count": null,
   "id": "a1d287b3",
   "metadata": {},
   "outputs": [],
   "source": []
  }
 ],
 "metadata": {
  "kernelspec": {
   "display_name": "Python 3 (ipykernel)",
   "language": "python",
   "name": "python3"
  },
  "language_info": {
   "codemirror_mode": {
    "name": "ipython",
    "version": 3
   },
   "file_extension": ".py",
   "mimetype": "text/x-python",
   "name": "python",
   "nbconvert_exporter": "python",
   "pygments_lexer": "ipython3",
   "version": "3.10.6"
  },
  "toc": {
   "base_numbering": 1,
   "nav_menu": {},
   "number_sections": true,
   "sideBar": true,
   "skip_h1_title": false,
   "title_cell": "Table of Contents",
   "title_sidebar": "Contents",
   "toc_cell": false,
   "toc_position": {},
   "toc_section_display": true,
   "toc_window_display": false
  }
 },
 "nbformat": 4,
 "nbformat_minor": 5
}
