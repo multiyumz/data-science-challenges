{
 "cells": [
  {
   "cell_type": "markdown",
   "id": "93e019c7",
   "metadata": {},
   "source": [
    "# Trace and Determinant\n",
    "\n",
    "If you are done with all the previous challenges, you can try these katas that can be found on Codewars:\n",
    "- [Calculate the trace of a square matrix](https://www.codewars.com/kata/matrix-trace/train/python)\n",
    "- [Write a function that accepts a square matrix (N x N 2D array) and returns the determinant of the matrix.](https://www.codewars.com/kata/matrix-determinant/train/python)"
   ]
  },
  {
   "cell_type": "code",
   "execution_count": 1,
   "id": "cb2afe40",
   "metadata": {},
   "outputs": [],
   "source": [
    "import numpy as np"
   ]
  },
  {
   "cell_type": "markdown",
   "id": "19c8063e",
   "metadata": {},
   "source": [
    "## (1) Trace (easy 😇) "
   ]
  },
  {
   "cell_type": "markdown",
   "id": "3ea8fa81",
   "metadata": {},
   "source": [
    "🎯 Calculate the trace of a square matrix. \n",
    "\n",
    "* A square matrix has `n` rows and `n` columns, where `n` is any integer > 0. \n",
    "* The entries of the matrix can contain any number of integers. \n",
    "\n",
    "👉 The function should return the calculated trace of the matrix, or None if the array is empty or not square. \n",
    "\n",
    "📚 The trace of an n-by-n square matrix A is defined to be the sum of the elements on the main diagonal (the diagonal from the upper left to the lower right) of A.\n",
    "\n",
    "ℹ️ You can read more about the trace of a matrix at these sources:\n",
    "* http://en.wikipedia.org/wiki/Trace_(linear_algebra)\n",
    "* http://mathworld.wolfram.com/MatrixTrace.html"
   ]
  },
  {
   "cell_type": "markdown",
   "id": "0579e729",
   "metadata": {},
   "source": [
    "### (1.1) Warm-up"
   ]
  },
  {
   "cell_type": "markdown",
   "id": "1cfea8c8",
   "metadata": {},
   "source": [
    "👉 Let's create now a square matrix $ A = \\begin{bmatrix}\n",
    "    1 & 2 & 3\\\\\n",
    "    4 & 5 & 6\\\\\n",
    "    7 & 8 & 9\n",
    "\\end{bmatrix}$"
   ]
  },
  {
   "cell_type": "code",
   "execution_count": 2,
   "id": "553a98e3",
   "metadata": {},
   "outputs": [],
   "source": [
    "A = np.array([\n",
    "    [1,2,3],\n",
    "    [4,5,6],\n",
    "    [7,8,9]\n",
    "])"
   ]
  },
  {
   "cell_type": "markdown",
   "id": "d1f61aec",
   "metadata": {},
   "source": [
    "❓ <b>Question</b> ❓ Compute its trace, which is the sum of its diagonal elements."
   ]
  },
  {
   "cell_type": "code",
   "execution_count": 3,
   "id": "d3ff6ac9",
   "metadata": {},
   "outputs": [
    {
     "data": {
      "text/plain": [
       "15"
      ]
     },
     "execution_count": 3,
     "metadata": {},
     "output_type": "execute_result"
    }
   ],
   "source": [
    "# You can select the diagonal elements of B\n",
    "np.trace(A)\n",
    "\n",
    "# and sum them \n"
   ]
  },
  {
   "cell_type": "code",
   "execution_count": 5,
   "id": "5646ff26",
   "metadata": {},
   "outputs": [
    {
     "data": {
      "text/plain": [
       "15"
      ]
     },
     "execution_count": 5,
     "metadata": {},
     "output_type": "execute_result"
    }
   ],
   "source": [
    "# You can also do it faster using np.diag\n",
    "np.sum(np.diag(A))"
   ]
  },
  {
   "cell_type": "markdown",
   "id": "29284cae",
   "metadata": {},
   "source": [
    "### (1.2) The `trace` function"
   ]
  },
  {
   "cell_type": "code",
   "execution_count": 16,
   "id": "42378726",
   "metadata": {},
   "outputs": [],
   "source": [
    "[r,c] = A.shape"
   ]
  },
  {
   "cell_type": "code",
   "execution_count": 18,
   "id": "598436b9",
   "metadata": {},
   "outputs": [
    {
     "name": "stdout",
     "output_type": "stream",
     "text": [
      "3\n"
     ]
    }
   ],
   "source": [
    "print(c)"
   ]
  },
  {
   "cell_type": "code",
   "execution_count": 42,
   "id": "f8c9b6cf",
   "metadata": {},
   "outputs": [],
   "source": [
    "# Compute now the trace function which returns the trace of a matrix, \n",
    "# checking first that it's a square matrix\n",
    "\n",
    "def trace(matrix: np.array) -> float:\n",
    "    if matrix.shape[0] == matrix.shape[1]:\n",
    "        return np.trace(matrix)\n",
    "    else:\n",
    "        return None\n",
    "    \n",
    "    "
   ]
  },
  {
   "cell_type": "code",
   "execution_count": 43,
   "id": "c2511f0f",
   "metadata": {},
   "outputs": [
    {
     "name": "stdout",
     "output_type": "stream",
     "text": [
      "15\n"
     ]
    }
   ],
   "source": [
    "# Call the function on the squared matrix A to double-check\n",
    "print(trace(A))"
   ]
  },
  {
   "cell_type": "markdown",
   "id": "eab41f4c",
   "metadata": {},
   "source": [
    "---"
   ]
  },
  {
   "cell_type": "markdown",
   "id": "5803acf3",
   "metadata": {},
   "source": [
    "## (2) Determinant (hard 🤯)"
   ]
  },
  {
   "cell_type": "markdown",
   "id": "d661d5f7",
   "metadata": {},
   "source": [
    "[Determinant](https://en.wikipedia.org/wiki/Determinant) are extremely important concepts in linear algebra. \n",
    "\n",
    "To start with, _a matrix is invertible if and only if its determinant is different from 0_  \n",
    "\n",
    "It's pretty useful to measure _how close to being non-invertible_ a matrix is (in a quantifiable way!)\n",
    "\n",
    "But that's not all of it: watch this <a href=\"https://www.youtube.com/watch?v=Ip3X9LOh2dk\">10-min Youtube video </a> to get an intuition about what is a determinant and why it's important\n",
    "\n",
    "❓ Your goal is to **create a function that manually compute the determinant of any matrix** (squared or not). It's a hard question, so, good luck! 💪\n",
    "\n",
    "----\n",
    "<u>**Hints:**</u>\n",
    "\n",
    "Here are some properties of a determinant that could help you build the function\n",
    "* The determinant of an empty matrix is 0\n",
    "* The determinant of a $ 1 \\times 1 $ matrix is equal to its single coefficient\n",
    "* The determinant of a $ 2 \\times 2 $ matrix $\\begin{bmatrix} a & b\\\\ c & d \\end{bmatrix}$ is equal to $ad - bc$\n",
    "* The determinant of a $ 3 \\times 3 $ matrix can be computed recursively based on the $ 2 \\times 2 $ `minor determinants`, alternating + and minus signs\n",
    "\\begin{aligned}{\\begin{vmatrix}a&b&c\\\\d&e&f\\\\g&h&i\\end{vmatrix}}&=a\\,{\\begin{vmatrix}e&f\\\\h&i\\end{vmatrix}}-b\\,{\\begin{vmatrix}d&f\\\\g&i\\end{vmatrix}}+c\\,{\\begin{vmatrix}d&e\\\\g&h\\end{vmatrix}}\\end{aligned}\n",
    "* etc...\n",
    "\n",
    "☝️ Your function should therefore be a **`recursive function`** (a function that calls itself!)"
   ]
  },
  {
   "cell_type": "code",
   "execution_count": 60,
   "id": "13e746d3",
   "metadata": {},
   "outputs": [],
   "source": [
    "from copy import deepcopy"
   ]
  },
  {
   "cell_type": "code",
   "execution_count": 76,
   "id": "5ac4bbc6",
   "metadata": {
    "tags": []
   },
   "outputs": [],
   "source": [
    "import numpy as np\n",
    "\n",
    "def smaller_matrix(original_matrix,row,column):\n",
    "    # new matrix should not affect the original matrix\n",
    "    new_matrix = deepcopy(original_matrix)\n",
    "    new_matrix = np.delete(new_matrix(original_matrix[row]))\n",
    "    for i in range(len(new_matrix)):\n",
    "        new_matrix[i].pop(column) \n",
    "\n",
    "def determinant(matrix):\n",
    "    num_rows=len(matrix)\n",
    "    for row in matrix:\n",
    "        if len(row) != num_rows:\n",
    "            print(\"not a square matrix\")\n",
    "            return None\n",
    "        if len(matrix) == 2:\n",
    "            simple_determinant = matrix[0][0] * \\\n",
    "                                 matrix[1][1] - \\\n",
    "                                 matrix[1][0] * \\\n",
    "                                 matrix[0][1]\n",
    "            return simple_determinant\n",
    "        else:\n",
    "            # cofactor expansion\n",
    "            answer = 0\n",
    "            num_columns = num_rows\n",
    "            for j in range(num_columns):\n",
    "                cofactor = (-1) ** (0+j) * matrix[0][j] * determinant(smaller_matrix(matrix,0,j))\n",
    "                answer += cofactor\n",
    "            return answer"
   ]
  },
  {
   "cell_type": "markdown",
   "id": "017a8eab",
   "metadata": {},
   "source": [
    "🧪 Test your code by running the following cells. It will compare the `determinant` function you've just coded with the built-in `np.linalg.det` from Numpy and raise errors if different"
   ]
  },
  {
   "cell_type": "code",
   "execution_count": 77,
   "id": "9e00b10e",
   "metadata": {},
   "outputs": [],
   "source": [
    "A = np.eye(2)\n",
    "assert(np.allclose(determinant(A), np.linalg.det(A) == True))"
   ]
  },
  {
   "cell_type": "code",
   "execution_count": 78,
   "id": "0bfce9a3",
   "metadata": {},
   "outputs": [
    {
     "ename": "TypeError",
     "evalue": "'numpy.ndarray' object is not callable",
     "output_type": "error",
     "traceback": [
      "\u001b[0;31m---------------------------------------------------------------------------\u001b[0m",
      "\u001b[0;31mTypeError\u001b[0m                                 Traceback (most recent call last)",
      "Cell \u001b[0;32mIn [78], line 6\u001b[0m\n\u001b[1;32m      1\u001b[0m B \u001b[38;5;241m=\u001b[39m np\u001b[38;5;241m.\u001b[39marray([\n\u001b[1;32m      2\u001b[0m     [\u001b[38;5;241m1\u001b[39m,\u001b[38;5;241m2\u001b[39m,\u001b[38;5;241m3\u001b[39m],\n\u001b[1;32m      3\u001b[0m     [\u001b[38;5;241m4\u001b[39m,\u001b[38;5;241m5\u001b[39m,\u001b[38;5;241m6\u001b[39m],\n\u001b[1;32m      4\u001b[0m     [\u001b[38;5;241m7\u001b[39m,\u001b[38;5;241m8\u001b[39m,\u001b[38;5;241m9\u001b[39m]\n\u001b[1;32m      5\u001b[0m ])\n\u001b[0;32m----> 6\u001b[0m \u001b[38;5;28;01massert\u001b[39;00m(np\u001b[38;5;241m.\u001b[39mallclose(determinant(B), np\u001b[38;5;241m.\u001b[39mlinalg\u001b[38;5;241m.\u001b[39mdet(B) \u001b[38;5;241m==\u001b[39m \u001b[38;5;28;01mTrue\u001b[39;00m))\n",
      "Cell \u001b[0;32mIn [76], line 27\u001b[0m, in \u001b[0;36mdeterminant\u001b[0;34m(matrix)\u001b[0m\n\u001b[1;32m     25\u001b[0m num_columns \u001b[38;5;241m=\u001b[39m num_rows\n\u001b[1;32m     26\u001b[0m \u001b[38;5;28;01mfor\u001b[39;00m j \u001b[38;5;129;01min\u001b[39;00m \u001b[38;5;28mrange\u001b[39m(num_columns):\n\u001b[0;32m---> 27\u001b[0m     cofactor \u001b[38;5;241m=\u001b[39m (\u001b[38;5;241m-\u001b[39m\u001b[38;5;241m1\u001b[39m) \u001b[38;5;241m*\u001b[39m\u001b[38;5;241m*\u001b[39m (\u001b[38;5;241m0\u001b[39m\u001b[38;5;241m+\u001b[39mj) \u001b[38;5;241m*\u001b[39m matrix[\u001b[38;5;241m0\u001b[39m][j] \u001b[38;5;241m*\u001b[39m determinant(\u001b[43msmaller_matrix\u001b[49m\u001b[43m(\u001b[49m\u001b[43mmatrix\u001b[49m\u001b[43m,\u001b[49m\u001b[38;5;241;43m0\u001b[39;49m\u001b[43m,\u001b[49m\u001b[43mj\u001b[49m\u001b[43m)\u001b[49m)\n\u001b[1;32m     28\u001b[0m     answer \u001b[38;5;241m+\u001b[39m\u001b[38;5;241m=\u001b[39m cofactor\n\u001b[1;32m     29\u001b[0m \u001b[38;5;28;01mreturn\u001b[39;00m answer\n",
      "Cell \u001b[0;32mIn [76], line 6\u001b[0m, in \u001b[0;36msmaller_matrix\u001b[0;34m(original_matrix, row, column)\u001b[0m\n\u001b[1;32m      3\u001b[0m \u001b[38;5;28;01mdef\u001b[39;00m \u001b[38;5;21msmaller_matrix\u001b[39m(original_matrix,row,column):\n\u001b[1;32m      4\u001b[0m     \u001b[38;5;66;03m# new matrix should not affect the original matrix\u001b[39;00m\n\u001b[1;32m      5\u001b[0m     new_matrix \u001b[38;5;241m=\u001b[39m deepcopy(original_matrix)\n\u001b[0;32m----> 6\u001b[0m     new_matrix \u001b[38;5;241m=\u001b[39m np\u001b[38;5;241m.\u001b[39mdelete(\u001b[43mnew_matrix\u001b[49m\u001b[43m(\u001b[49m\u001b[43moriginal_matrix\u001b[49m\u001b[43m[\u001b[49m\u001b[43mrow\u001b[49m\u001b[43m]\u001b[49m\u001b[43m)\u001b[49m)\n\u001b[1;32m      7\u001b[0m     \u001b[38;5;28;01mfor\u001b[39;00m i \u001b[38;5;129;01min\u001b[39;00m \u001b[38;5;28mrange\u001b[39m(\u001b[38;5;28mlen\u001b[39m(new_matrix)):\n\u001b[1;32m      8\u001b[0m         new_matrix[i]\u001b[38;5;241m.\u001b[39mpop(column)\n",
      "\u001b[0;31mTypeError\u001b[0m: 'numpy.ndarray' object is not callable"
     ]
    }
   ],
   "source": [
    "B = np.array([\n",
    "    [1,2,3],\n",
    "    [4,5,6],\n",
    "    [7,8,9]\n",
    "])\n",
    "assert(np.allclose(determinant(B), np.linalg.det(B) == True))"
   ]
  },
  {
   "cell_type": "code",
   "execution_count": 53,
   "id": "2a800d71",
   "metadata": {},
   "outputs": [
    {
     "ename": "ValueError",
     "evalue": "operands could not be broadcast together with shapes (0,4) (3,4) ",
     "output_type": "error",
     "traceback": [
      "\u001b[0;31m---------------------------------------------------------------------------\u001b[0m",
      "\u001b[0;31mValueError\u001b[0m                                Traceback (most recent call last)",
      "Cell \u001b[0;32mIn [53], line 7\u001b[0m\n\u001b[1;32m      1\u001b[0m C \u001b[38;5;241m=\u001b[39m np\u001b[38;5;241m.\u001b[39marray([\n\u001b[1;32m      2\u001b[0m     [\u001b[38;5;241m1\u001b[39m,\u001b[38;5;241m2\u001b[39m,\u001b[38;5;241m3\u001b[39m,\u001b[38;5;241m4\u001b[39m],\n\u001b[1;32m      3\u001b[0m     [\u001b[38;5;241m5\u001b[39m,\u001b[38;5;241m6\u001b[39m,\u001b[38;5;241m7\u001b[39m,\u001b[38;5;241m8\u001b[39m],\n\u001b[1;32m      4\u001b[0m     [\u001b[38;5;241m9\u001b[39m,\u001b[38;5;241m10\u001b[39m,\u001b[38;5;241m11\u001b[39m,\u001b[38;5;241m12\u001b[39m],\n\u001b[1;32m      5\u001b[0m     [\u001b[38;5;241m13\u001b[39m,\u001b[38;5;241m14\u001b[39m,\u001b[38;5;241m15\u001b[39m,\u001b[38;5;241m16\u001b[39m]\n\u001b[1;32m      6\u001b[0m ])\n\u001b[0;32m----> 7\u001b[0m \u001b[38;5;28;01massert\u001b[39;00m(np\u001b[38;5;241m.\u001b[39mallclose(determinant(C), np\u001b[38;5;241m.\u001b[39mlinalg\u001b[38;5;241m.\u001b[39mdet(C) \u001b[38;5;241m==\u001b[39m \u001b[38;5;28;01mTrue\u001b[39;00m))\n",
      "Cell \u001b[0;32mIn [49], line 13\u001b[0m, in \u001b[0;36mdeterminant\u001b[0;34m(m)\u001b[0m\n\u001b[1;32m     11\u001b[0m the_determinant \u001b[38;5;241m=\u001b[39m \u001b[38;5;241m0\u001b[39m\n\u001b[1;32m     12\u001b[0m \u001b[38;5;28;01mfor\u001b[39;00m c \u001b[38;5;129;01min\u001b[39;00m \u001b[38;5;28mrange\u001b[39m(\u001b[38;5;28mlen\u001b[39m(m)):\n\u001b[0;32m---> 13\u001b[0m     the_determinant \u001b[38;5;241m+\u001b[39m\u001b[38;5;241m=\u001b[39m ((\u001b[38;5;241m-\u001b[39m\u001b[38;5;241m1\u001b[39m)\u001b[38;5;241m*\u001b[39m\u001b[38;5;241m*\u001b[39mc)\u001b[38;5;241m*\u001b[39mm[\u001b[38;5;241m0\u001b[39m][c]\u001b[38;5;241m*\u001b[39mdeternminant(\u001b[43mgetMatrixMinor\u001b[49m\u001b[43m(\u001b[49m\u001b[43mm\u001b[49m\u001b[43m,\u001b[49m\u001b[38;5;241;43m0\u001b[39;49m\u001b[43m,\u001b[49m\u001b[43mc\u001b[49m\u001b[43m)\u001b[49m)\n\u001b[1;32m     14\u001b[0m \u001b[38;5;28;01mreturn\u001b[39;00m the_determinant\n",
      "Cell \u001b[0;32mIn [49], line 4\u001b[0m, in \u001b[0;36mgetMatrixMinor\u001b[0;34m(m, i, j)\u001b[0m\n\u001b[1;32m      3\u001b[0m \u001b[38;5;28;01mdef\u001b[39;00m \u001b[38;5;21mgetMatrixMinor\u001b[39m(m,i,j):\n\u001b[0;32m----> 4\u001b[0m     \u001b[38;5;28;01mreturn\u001b[39;00m [row[:j] \u001b[38;5;241m+\u001b[39m row[j\u001b[38;5;241m+\u001b[39m\u001b[38;5;241m1\u001b[39m:] \u001b[38;5;28;01mfor\u001b[39;00m row \u001b[38;5;129;01min\u001b[39;00m (\u001b[43mm\u001b[49m\u001b[43m[\u001b[49m\u001b[43m:\u001b[49m\u001b[43mi\u001b[49m\u001b[43m]\u001b[49m\u001b[38;5;241;43m+\u001b[39;49m\u001b[43mm\u001b[49m\u001b[43m[\u001b[49m\u001b[43mi\u001b[49m\u001b[38;5;241;43m+\u001b[39;49m\u001b[38;5;241;43m1\u001b[39;49m\u001b[43m:\u001b[49m\u001b[43m]\u001b[49m)]\n",
      "\u001b[0;31mValueError\u001b[0m: operands could not be broadcast together with shapes (0,4) (3,4) "
     ]
    }
   ],
   "source": [
    "C = np.array([\n",
    "    [1,2,3,4],\n",
    "    [5,6,7,8],\n",
    "    [9,10,11,12],\n",
    "    [13,14,15,16]\n",
    "])\n",
    "assert(np.allclose(determinant(C), np.linalg.det(C) == True))"
   ]
  },
  {
   "cell_type": "markdown",
   "id": "8a1c6d32",
   "metadata": {},
   "source": [
    "🏁 **Congrats for finishing the day!**"
   ]
  }
 ],
 "metadata": {
  "kernelspec": {
   "display_name": "Python 3 (ipykernel)",
   "language": "python",
   "name": "python3"
  },
  "language_info": {
   "codemirror_mode": {
    "name": "ipython",
    "version": 3
   },
   "file_extension": ".py",
   "mimetype": "text/x-python",
   "name": "python",
   "nbconvert_exporter": "python",
   "pygments_lexer": "ipython3",
   "version": "3.10.6"
  },
  "toc": {
   "base_numbering": 1,
   "nav_menu": {},
   "number_sections": true,
   "sideBar": true,
   "skip_h1_title": false,
   "title_cell": "Table of Contents",
   "title_sidebar": "Contents",
   "toc_cell": false,
   "toc_position": {},
   "toc_section_display": true,
   "toc_window_display": false
  }
 },
 "nbformat": 4,
 "nbformat_minor": 5
}
